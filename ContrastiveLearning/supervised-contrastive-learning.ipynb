{
 "cells": [
  {
   "cell_type": "code",
   "execution_count": 1,
   "id": "8e8eba38",
   "metadata": {
    "execution": {
     "iopub.execute_input": "2024-07-31T15:42:55.327200Z",
     "iopub.status.busy": "2024-07-31T15:42:55.326919Z",
     "iopub.status.idle": "2024-07-31T15:43:25.394588Z",
     "shell.execute_reply": "2024-07-31T15:43:25.393510Z"
    },
    "papermill": {
     "duration": 30.078254,
     "end_time": "2024-07-31T15:43:25.396918",
     "exception": false,
     "start_time": "2024-07-31T15:42:55.318664",
     "status": "completed"
    },
    "tags": []
   },
   "outputs": [
    {
     "name": "stdout",
     "output_type": "stream",
     "text": [
      "Found existing installation: keras 3.4.1\r\n",
      "Uninstalling keras-3.4.1:\r\n",
      "  Successfully uninstalled keras-3.4.1\r\n",
      "Collecting keras==2.*\r\n",
      "  Downloading keras-2.15.0-py3-none-any.whl.metadata (2.4 kB)\r\n",
      "Downloading keras-2.15.0-py3-none-any.whl (1.7 MB)\r\n",
      "\u001b[2K   \u001b[90m━━━━━━━━━━━━━━━━━━━━━━━━━━━━━━━━━━━━━━━━\u001b[0m \u001b[32m1.7/1.7 MB\u001b[0m \u001b[31m7.1 MB/s\u001b[0m eta \u001b[36m0:00:00\u001b[0m\r\n",
      "\u001b[?25hInstalling collected packages: keras\r\n",
      "\u001b[31mERROR: pip's dependency resolver does not currently take into account all the packages that are installed. This behaviour is the source of the following dependency conflicts.\r\n",
      "tensorflow-decision-forests 1.8.1 requires wurlitzer, which is not installed.\u001b[0m\u001b[31m\r\n",
      "\u001b[0mSuccessfully installed keras-2.15.0\r\n",
      "Collecting wurlitzer\r\n",
      "  Downloading wurlitzer-3.1.1-py3-none-any.whl.metadata (2.5 kB)\r\n",
      "Downloading wurlitzer-3.1.1-py3-none-any.whl (8.6 kB)\r\n",
      "Installing collected packages: wurlitzer\r\n",
      "Successfully installed wurlitzer-3.1.1\r\n"
     ]
    }
   ],
   "source": [
    "# Gỡ cài đặt Keras hiện tại\n",
    "!pip uninstall -y keras\n",
    "\n",
    "# Cài đặt phiên bản Keras cụ thể\n",
    "!pip install keras==2.*\n",
    "\n",
    "# Cài đặt các phụ thuộc còn thiếu\n",
    "!pip install wurlitzer"
   ]
  },
  {
   "cell_type": "code",
   "execution_count": 2,
   "id": "27fe6dea",
   "metadata": {
    "_cell_guid": "b1076dfc-b9ad-4769-8c92-a6c4dae69d19",
    "_uuid": "8f2839f25d086af736a60e9eeb907d3b93b6e0e5",
    "execution": {
     "iopub.execute_input": "2024-07-31T15:43:25.414812Z",
     "iopub.status.busy": "2024-07-31T15:43:25.414495Z",
     "iopub.status.idle": "2024-07-31T15:43:38.357840Z",
     "shell.execute_reply": "2024-07-31T15:43:38.356730Z"
    },
    "papermill": {
     "duration": 12.954998,
     "end_time": "2024-07-31T15:43:38.360280",
     "exception": false,
     "start_time": "2024-07-31T15:43:25.405282",
     "status": "completed"
    },
    "tags": []
   },
   "outputs": [
    {
     "name": "stdout",
     "output_type": "stream",
     "text": [
      "Collecting tensorflow-addons\r\n",
      "  Downloading tensorflow_addons-0.23.0-cp310-cp310-manylinux_2_17_x86_64.manylinux2014_x86_64.whl.metadata (1.8 kB)\r\n",
      "Requirement already satisfied: packaging in /opt/conda/lib/python3.10/site-packages (from tensorflow-addons) (21.3)\r\n",
      "Collecting typeguard<3.0.0,>=2.7 (from tensorflow-addons)\r\n",
      "  Downloading typeguard-2.13.3-py3-none-any.whl.metadata (3.6 kB)\r\n",
      "Requirement already satisfied: pyparsing!=3.0.5,>=2.0.2 in /opt/conda/lib/python3.10/site-packages (from packaging->tensorflow-addons) (3.1.1)\r\n",
      "Downloading tensorflow_addons-0.23.0-cp310-cp310-manylinux_2_17_x86_64.manylinux2014_x86_64.whl (611 kB)\r\n",
      "\u001b[2K   \u001b[90m━━━━━━━━━━━━━━━━━━━━━━━━━━━━━━━━━━━━━━━━\u001b[0m \u001b[32m611.8/611.8 kB\u001b[0m \u001b[31m3.8 MB/s\u001b[0m eta \u001b[36m0:00:00\u001b[0m\r\n",
      "\u001b[?25hDownloading typeguard-2.13.3-py3-none-any.whl (17 kB)\r\n",
      "Installing collected packages: typeguard, tensorflow-addons\r\n",
      "  Attempting uninstall: typeguard\r\n",
      "    Found existing installation: typeguard 4.1.5\r\n",
      "    Uninstalling typeguard-4.1.5:\r\n",
      "      Successfully uninstalled typeguard-4.1.5\r\n",
      "\u001b[31mERROR: pip's dependency resolver does not currently take into account all the packages that are installed. This behaviour is the source of the following dependency conflicts.\r\n",
      "ydata-profiling 4.6.4 requires numpy<1.26,>=1.16.0, but you have numpy 1.26.4 which is incompatible.\r\n",
      "ydata-profiling 4.6.4 requires typeguard<5,>=4.1.2, but you have typeguard 2.13.3 which is incompatible.\u001b[0m\u001b[31m\r\n",
      "\u001b[0mSuccessfully installed tensorflow-addons-0.23.0 typeguard-2.13.3\r\n"
     ]
    }
   ],
   "source": [
    "!pip install tensorflow-addons"
   ]
  },
  {
   "cell_type": "markdown",
   "id": "f8a60d1f",
   "metadata": {
    "papermill": {
     "duration": 0.008625,
     "end_time": "2024-07-31T15:43:38.378072",
     "exception": false,
     "start_time": "2024-07-31T15:43:38.369447",
     "status": "completed"
    },
    "tags": []
   },
   "source": [
    "# Lib"
   ]
  },
  {
   "cell_type": "code",
   "execution_count": 3,
   "id": "d72d77f3",
   "metadata": {
    "execution": {
     "iopub.execute_input": "2024-07-31T15:43:38.397372Z",
     "iopub.status.busy": "2024-07-31T15:43:38.397048Z",
     "iopub.status.idle": "2024-07-31T15:43:50.414894Z",
     "shell.execute_reply": "2024-07-31T15:43:50.413962Z"
    },
    "papermill": {
     "duration": 12.030256,
     "end_time": "2024-07-31T15:43:50.417081",
     "exception": false,
     "start_time": "2024-07-31T15:43:38.386825",
     "status": "completed"
    },
    "tags": []
   },
   "outputs": [
    {
     "name": "stderr",
     "output_type": "stream",
     "text": [
      "2024-07-31 15:43:40.125438: E external/local_xla/xla/stream_executor/cuda/cuda_dnn.cc:9261] Unable to register cuDNN factory: Attempting to register factory for plugin cuDNN when one has already been registered\n",
      "2024-07-31 15:43:40.125539: E external/local_xla/xla/stream_executor/cuda/cuda_fft.cc:607] Unable to register cuFFT factory: Attempting to register factory for plugin cuFFT when one has already been registered\n",
      "2024-07-31 15:43:40.254773: E external/local_xla/xla/stream_executor/cuda/cuda_blas.cc:1515] Unable to register cuBLAS factory: Attempting to register factory for plugin cuBLAS when one has already been registered\n",
      "/opt/conda/lib/python3.10/site-packages/tensorflow_addons/utils/tfa_eol_msg.py:23: UserWarning: \n",
      "\n",
      "TensorFlow Addons (TFA) has ended development and introduction of new features.\n",
      "TFA has entered a minimal maintenance and release mode until a planned end of life in May 2024.\n",
      "Please modify downstream libraries to take dependencies from other repositories in our TensorFlow community (e.g. Keras, Keras-CV, and Keras-NLP). \n",
      "\n",
      "For more information see: https://github.com/tensorflow/addons/issues/2807 \n",
      "\n",
      "  warnings.warn(\n"
     ]
    }
   ],
   "source": [
    "import tensorflow as tf\n",
    "import tensorflow_addons as tfa\n",
    "import numpy as np\n",
    "from tensorflow import keras\n",
    "from tensorflow.keras import layers"
   ]
  },
  {
   "cell_type": "markdown",
   "id": "beb8bdf9",
   "metadata": {
    "papermill": {
     "duration": 0.009014,
     "end_time": "2024-07-31T15:43:50.435848",
     "exception": false,
     "start_time": "2024-07-31T15:43:50.426834",
     "status": "completed"
    },
    "tags": []
   },
   "source": [
    "# Dữ liệu"
   ]
  },
  {
   "cell_type": "code",
   "execution_count": 4,
   "id": "d2eac291",
   "metadata": {
    "execution": {
     "iopub.execute_input": "2024-07-31T15:43:50.455471Z",
     "iopub.status.busy": "2024-07-31T15:43:50.454929Z",
     "iopub.status.idle": "2024-07-31T15:43:56.768114Z",
     "shell.execute_reply": "2024-07-31T15:43:56.767108Z"
    },
    "papermill": {
     "duration": 6.325398,
     "end_time": "2024-07-31T15:43:56.770440",
     "exception": false,
     "start_time": "2024-07-31T15:43:50.445042",
     "status": "completed"
    },
    "tags": []
   },
   "outputs": [
    {
     "name": "stdout",
     "output_type": "stream",
     "text": [
      "Downloading data from https://www.cs.toronto.edu/~kriz/cifar-10-python.tar.gz\n",
      "170498071/170498071 [==============================] - 4s 0us/step\n"
     ]
    }
   ],
   "source": [
    "(x_train, y_train), (x_test, y_test) = keras.datasets.cifar10.load_data()"
   ]
  },
  {
   "cell_type": "code",
   "execution_count": 5,
   "id": "42d85ad7",
   "metadata": {
    "execution": {
     "iopub.execute_input": "2024-07-31T15:43:56.803320Z",
     "iopub.status.busy": "2024-07-31T15:43:56.803040Z",
     "iopub.status.idle": "2024-07-31T15:43:56.807756Z",
     "shell.execute_reply": "2024-07-31T15:43:56.806847Z"
    },
    "papermill": {
     "duration": 0.023034,
     "end_time": "2024-07-31T15:43:56.809726",
     "exception": false,
     "start_time": "2024-07-31T15:43:56.786692",
     "status": "completed"
    },
    "tags": []
   },
   "outputs": [
    {
     "name": "stdout",
     "output_type": "stream",
     "text": [
      "x_train shape: (50000, 32, 32, 3) - y_train shape: (50000, 1)\n",
      "x_test shape: (10000, 32, 32, 3) - y_test shape: (10000, 1)\n"
     ]
    }
   ],
   "source": [
    "print(f\"x_train shape: {x_train.shape} - y_train shape: {y_train.shape}\")\n",
    "print(f\"x_test shape: {x_test.shape} - y_test shape: {y_test.shape}\")"
   ]
  },
  {
   "cell_type": "code",
   "execution_count": 6,
   "id": "19348e23",
   "metadata": {
    "execution": {
     "iopub.execute_input": "2024-07-31T15:43:56.842116Z",
     "iopub.status.busy": "2024-07-31T15:43:56.841845Z",
     "iopub.status.idle": "2024-07-31T15:43:56.845556Z",
     "shell.execute_reply": "2024-07-31T15:43:56.844767Z"
    },
    "papermill": {
     "duration": 0.022459,
     "end_time": "2024-07-31T15:43:56.847379",
     "exception": false,
     "start_time": "2024-07-31T15:43:56.824920",
     "status": "completed"
    },
    "tags": []
   },
   "outputs": [],
   "source": [
    "num_classes = 10\n",
    "input_shape = (32, 32, 3)"
   ]
  },
  {
   "cell_type": "markdown",
   "id": "597894c9",
   "metadata": {
    "papermill": {
     "duration": 0.014825,
     "end_time": "2024-07-31T15:43:56.877130",
     "exception": false,
     "start_time": "2024-07-31T15:43:56.862305",
     "status": "completed"
    },
    "tags": []
   },
   "source": [
    "# Tăng cường dữ liệu ảnh"
   ]
  },
  {
   "cell_type": "code",
   "execution_count": 7,
   "id": "da63734a",
   "metadata": {
    "execution": {
     "iopub.execute_input": "2024-07-31T15:43:56.909748Z",
     "iopub.status.busy": "2024-07-31T15:43:56.909465Z",
     "iopub.status.idle": "2024-07-31T15:44:01.803799Z",
     "shell.execute_reply": "2024-07-31T15:44:01.802740Z"
    },
    "papermill": {
     "duration": 4.913016,
     "end_time": "2024-07-31T15:44:01.806076",
     "exception": false,
     "start_time": "2024-07-31T15:43:56.893060",
     "status": "completed"
    },
    "tags": []
   },
   "outputs": [],
   "source": [
    "data_augmentation = keras.Sequential(\n",
    "    [\n",
    "        layers.Normalization(),\n",
    "        layers.RandomFlip(\"horizontal\"),\n",
    "        layers.RandomRotation(0.02),\n",
    "    ]\n",
    ")\n",
    "\n",
    "# thiết lập trạng thái lớp chuẩn hóa\n",
    "data_augmentation.layers[0].adapt(x_train)"
   ]
  },
  {
   "cell_type": "markdown",
   "id": "98e7e3bb",
   "metadata": {
    "papermill": {
     "duration": 0.014798,
     "end_time": "2024-07-31T15:44:01.836340",
     "exception": false,
     "start_time": "2024-07-31T15:44:01.821542",
     "status": "completed"
    },
    "tags": []
   },
   "source": [
    "# Mô hình"
   ]
  },
  {
   "cell_type": "code",
   "execution_count": 8,
   "id": "ad347c53",
   "metadata": {
    "execution": {
     "iopub.execute_input": "2024-07-31T15:44:01.868899Z",
     "iopub.status.busy": "2024-07-31T15:44:01.868223Z",
     "iopub.status.idle": "2024-07-31T15:44:01.873831Z",
     "shell.execute_reply": "2024-07-31T15:44:01.872915Z"
    },
    "papermill": {
     "duration": 0.023205,
     "end_time": "2024-07-31T15:44:01.875719",
     "exception": false,
     "start_time": "2024-07-31T15:44:01.852514",
     "status": "completed"
    },
    "tags": []
   },
   "outputs": [],
   "source": [
    "def create_encoder():\n",
    "    res_net = keras.applications.ResNet50V2(\n",
    "        include_top=False, weights=None, input_shape=input_shape, pooling=\"avg\"\n",
    "    )\n",
    "\n",
    "    inputs = keras.Input(shape=input_shape)\n",
    "    augmented = data_augmentation(inputs)\n",
    "    outputs = res_net(augmented)\n",
    "    model = keras.Model(inputs=inputs, outputs=outputs, name=\"cifar10-encoder\")\n",
    "    return model"
   ]
  },
  {
   "cell_type": "code",
   "execution_count": 9,
   "id": "ac45b4c5",
   "metadata": {
    "execution": {
     "iopub.execute_input": "2024-07-31T15:44:01.906488Z",
     "iopub.status.busy": "2024-07-31T15:44:01.906240Z",
     "iopub.status.idle": "2024-07-31T15:44:04.202750Z",
     "shell.execute_reply": "2024-07-31T15:44:04.201750Z"
    },
    "papermill": {
     "duration": 2.31422,
     "end_time": "2024-07-31T15:44:04.204853",
     "exception": false,
     "start_time": "2024-07-31T15:44:01.890633",
     "status": "completed"
    },
    "tags": []
   },
   "outputs": [
    {
     "name": "stdout",
     "output_type": "stream",
     "text": [
      "Model: \"cifar10-encoder\"\n",
      "_________________________________________________________________\n",
      " Layer (type)                Output Shape              Param #   \n",
      "=================================================================\n",
      " input_2 (InputLayer)        [(None, 32, 32, 3)]       0         \n",
      "                                                                 \n",
      " sequential (Sequential)     (None, 32, 32, 3)         7         \n",
      "                                                                 \n",
      " resnet50v2 (Functional)     (None, 2048)              23564800  \n",
      "                                                                 \n",
      "=================================================================\n",
      "Total params: 23564807 (89.89 MB)\n",
      "Trainable params: 23519360 (89.72 MB)\n",
      "Non-trainable params: 45447 (177.53 KB)\n",
      "_________________________________________________________________\n"
     ]
    }
   ],
   "source": [
    "encoder = create_encoder()\n",
    "encoder.summary()"
   ]
  },
  {
   "cell_type": "code",
   "execution_count": 10,
   "id": "a6a837e6",
   "metadata": {
    "execution": {
     "iopub.execute_input": "2024-07-31T15:44:04.238814Z",
     "iopub.status.busy": "2024-07-31T15:44:04.238463Z",
     "iopub.status.idle": "2024-07-31T15:44:04.243049Z",
     "shell.execute_reply": "2024-07-31T15:44:04.242194Z"
    },
    "papermill": {
     "duration": 0.023692,
     "end_time": "2024-07-31T15:44:04.244857",
     "exception": false,
     "start_time": "2024-07-31T15:44:04.221165",
     "status": "completed"
    },
    "tags": []
   },
   "outputs": [],
   "source": [
    "learning_rate = 0.001\n",
    "batch_size = 265\n",
    "hidden_units = 512\n",
    "projection_units = 128\n",
    "num_epochs = 50\n",
    "dropout_rate = 0.5\n",
    "temperature = 0.05"
   ]
  },
  {
   "cell_type": "markdown",
   "id": "eb03de2e",
   "metadata": {
    "papermill": {
     "duration": 0.015774,
     "end_time": "2024-07-31T15:44:04.277507",
     "exception": false,
     "start_time": "2024-07-31T15:44:04.261733",
     "status": "completed"
    },
    "tags": []
   },
   "source": [
    "# Mô hình phân loại"
   ]
  },
  {
   "cell_type": "code",
   "execution_count": 11,
   "id": "d00e031e",
   "metadata": {
    "execution": {
     "iopub.execute_input": "2024-07-31T15:44:04.310624Z",
     "iopub.status.busy": "2024-07-31T15:44:04.310374Z",
     "iopub.status.idle": "2024-07-31T15:44:04.317086Z",
     "shell.execute_reply": "2024-07-31T15:44:04.316266Z"
    },
    "papermill": {
     "duration": 0.025341,
     "end_time": "2024-07-31T15:44:04.319006",
     "exception": false,
     "start_time": "2024-07-31T15:44:04.293665",
     "status": "completed"
    },
    "tags": []
   },
   "outputs": [],
   "source": [
    "def create_classifier(encoder, trainable=True):\n",
    "\n",
    "    for layer in encoder.layers:\n",
    "        layer.trainable = trainable\n",
    "\n",
    "    inputs = keras.Input(shape=input_shape)\n",
    "    features = encoder(inputs)\n",
    "    features = layers.Dropout(dropout_rate)(features)\n",
    "    features = layers.Dense(hidden_units, activation=\"relu\")(features)\n",
    "    features = layers.Dropout(dropout_rate)(features)\n",
    "    outputs = layers.Dense(num_classes, activation=\"softmax\")(features)\n",
    "\n",
    "    model = keras.Model(inputs=inputs, outputs=outputs, name=\"cifar10-classifier\")\n",
    "    \n",
    "    model.compile(\n",
    "        optimizer=keras.optimizers.Adam(learning_rate),\n",
    "        loss=keras.losses.SparseCategoricalCrossentropy(),\n",
    "        metrics=[keras.metrics.SparseCategoricalAccuracy()],\n",
    "    )\n",
    "    return model"
   ]
  },
  {
   "cell_type": "code",
   "execution_count": 12,
   "id": "46cf211f",
   "metadata": {
    "execution": {
     "iopub.execute_input": "2024-07-31T15:44:04.353451Z",
     "iopub.status.busy": "2024-07-31T15:44:04.353183Z",
     "iopub.status.idle": "2024-07-31T15:44:06.757821Z",
     "shell.execute_reply": "2024-07-31T15:44:06.756857Z"
    },
    "papermill": {
     "duration": 2.423966,
     "end_time": "2024-07-31T15:44:06.759775",
     "exception": false,
     "start_time": "2024-07-31T15:44:04.335809",
     "status": "completed"
    },
    "tags": []
   },
   "outputs": [
    {
     "name": "stdout",
     "output_type": "stream",
     "text": [
      "Model: \"cifar10-classifier\"\n",
      "_________________________________________________________________\n",
      " Layer (type)                Output Shape              Param #   \n",
      "=================================================================\n",
      " input_5 (InputLayer)        [(None, 32, 32, 3)]       0         \n",
      "                                                                 \n",
      " cifar10-encoder (Functiona  (None, 2048)              23564807  \n",
      " l)                                                              \n",
      "                                                                 \n",
      " dropout (Dropout)           (None, 2048)              0         \n",
      "                                                                 \n",
      " dense (Dense)               (None, 512)               1049088   \n",
      "                                                                 \n",
      " dropout_1 (Dropout)         (None, 512)               0         \n",
      "                                                                 \n",
      " dense_1 (Dense)             (None, 10)                5130      \n",
      "                                                                 \n",
      "=================================================================\n",
      "Total params: 24619025 (93.91 MB)\n",
      "Trainable params: 24573578 (93.74 MB)\n",
      "Non-trainable params: 45447 (177.53 KB)\n",
      "_________________________________________________________________\n"
     ]
    }
   ],
   "source": [
    "encoder = create_encoder()\n",
    "classifier = create_classifier(encoder)\n",
    "classifier.summary()"
   ]
  },
  {
   "cell_type": "code",
   "execution_count": 13,
   "id": "6fe303c9",
   "metadata": {
    "execution": {
     "iopub.execute_input": "2024-07-31T15:44:06.797661Z",
     "iopub.status.busy": "2024-07-31T15:44:06.797362Z",
     "iopub.status.idle": "2024-07-31T16:00:37.662647Z",
     "shell.execute_reply": "2024-07-31T16:00:37.661734Z"
    },
    "papermill": {
     "duration": 990.886509,
     "end_time": "2024-07-31T16:00:37.664566",
     "exception": false,
     "start_time": "2024-07-31T15:44:06.778057",
     "status": "completed"
    },
    "tags": []
   },
   "outputs": [
    {
     "name": "stdout",
     "output_type": "stream",
     "text": [
      "Epoch 1/50\n"
     ]
    },
    {
     "name": "stderr",
     "output_type": "stream",
     "text": [
      "WARNING: All log messages before absl::InitializeLog() is called are written to STDERR\n",
      "I0000 00:00:1722440665.907843      90 device_compiler.h:186] Compiled cluster using XLA!  This line is logged at most once for the lifetime of the process.\n"
     ]
    },
    {
     "name": "stdout",
     "output_type": "stream",
     "text": [
      "189/189 [==============================] - 66s 136ms/step - loss: 1.8468 - sparse_categorical_accuracy: 0.3303\n",
      "Epoch 2/50\n",
      "189/189 [==============================] - 18s 95ms/step - loss: 1.4134 - sparse_categorical_accuracy: 0.4921\n",
      "Epoch 3/50\n",
      "189/189 [==============================] - 18s 97ms/step - loss: 1.2450 - sparse_categorical_accuracy: 0.5625\n",
      "Epoch 4/50\n",
      "189/189 [==============================] - 19s 99ms/step - loss: 1.1014 - sparse_categorical_accuracy: 0.6174\n",
      "Epoch 5/50\n",
      "189/189 [==============================] - 19s 101ms/step - loss: 1.0019 - sparse_categorical_accuracy: 0.6556\n",
      "Epoch 6/50\n",
      "189/189 [==============================] - 19s 100ms/step - loss: 0.9429 - sparse_categorical_accuracy: 0.6742\n",
      "Epoch 7/50\n",
      "189/189 [==============================] - 19s 99ms/step - loss: 0.8471 - sparse_categorical_accuracy: 0.7114\n",
      "Epoch 8/50\n",
      "189/189 [==============================] - 19s 99ms/step - loss: 0.8265 - sparse_categorical_accuracy: 0.7186\n",
      "Epoch 9/50\n",
      "189/189 [==============================] - 19s 99ms/step - loss: 0.7679 - sparse_categorical_accuracy: 0.7370\n",
      "Epoch 10/50\n",
      "189/189 [==============================] - 19s 100ms/step - loss: 0.6766 - sparse_categorical_accuracy: 0.7707\n",
      "Epoch 11/50\n",
      "189/189 [==============================] - 19s 100ms/step - loss: 0.6166 - sparse_categorical_accuracy: 0.7921\n",
      "Epoch 12/50\n",
      "189/189 [==============================] - 19s 99ms/step - loss: 0.5782 - sparse_categorical_accuracy: 0.8023\n",
      "Epoch 13/50\n",
      "189/189 [==============================] - 19s 99ms/step - loss: 0.5581 - sparse_categorical_accuracy: 0.8089\n",
      "Epoch 14/50\n",
      "189/189 [==============================] - 19s 99ms/step - loss: 0.6709 - sparse_categorical_accuracy: 0.7740\n",
      "Epoch 15/50\n",
      "189/189 [==============================] - 19s 99ms/step - loss: 0.5238 - sparse_categorical_accuracy: 0.8216\n",
      "Epoch 16/50\n",
      "189/189 [==============================] - 19s 99ms/step - loss: 0.4665 - sparse_categorical_accuracy: 0.8410\n",
      "Epoch 17/50\n",
      "189/189 [==============================] - 19s 99ms/step - loss: 0.4412 - sparse_categorical_accuracy: 0.8528\n",
      "Epoch 18/50\n",
      "189/189 [==============================] - 19s 99ms/step - loss: 0.4128 - sparse_categorical_accuracy: 0.8611\n",
      "Epoch 19/50\n",
      "189/189 [==============================] - 19s 99ms/step - loss: 0.5426 - sparse_categorical_accuracy: 0.8199\n",
      "Epoch 20/50\n",
      "189/189 [==============================] - 19s 99ms/step - loss: 0.3971 - sparse_categorical_accuracy: 0.8668\n",
      "Epoch 21/50\n",
      "189/189 [==============================] - 19s 99ms/step - loss: 0.3616 - sparse_categorical_accuracy: 0.8775\n",
      "Epoch 22/50\n",
      "189/189 [==============================] - 19s 99ms/step - loss: 0.3243 - sparse_categorical_accuracy: 0.8904\n",
      "Epoch 23/50\n",
      "189/189 [==============================] - 19s 99ms/step - loss: 0.3062 - sparse_categorical_accuracy: 0.8974\n",
      "Epoch 24/50\n",
      "189/189 [==============================] - 19s 99ms/step - loss: 0.2886 - sparse_categorical_accuracy: 0.9030\n",
      "Epoch 25/50\n",
      "189/189 [==============================] - 19s 99ms/step - loss: 0.3267 - sparse_categorical_accuracy: 0.8919\n",
      "Epoch 26/50\n",
      "189/189 [==============================] - 19s 99ms/step - loss: 0.2709 - sparse_categorical_accuracy: 0.9092\n",
      "Epoch 27/50\n",
      "189/189 [==============================] - 19s 99ms/step - loss: 0.2644 - sparse_categorical_accuracy: 0.9111\n",
      "Epoch 28/50\n",
      "189/189 [==============================] - 19s 99ms/step - loss: 0.2407 - sparse_categorical_accuracy: 0.9191\n",
      "Epoch 29/50\n",
      "189/189 [==============================] - 19s 99ms/step - loss: 0.7279 - sparse_categorical_accuracy: 0.7683\n",
      "Epoch 30/50\n",
      "189/189 [==============================] - 19s 99ms/step - loss: 0.4850 - sparse_categorical_accuracy: 0.8352\n",
      "Epoch 31/50\n",
      "189/189 [==============================] - 19s 100ms/step - loss: 0.3170 - sparse_categorical_accuracy: 0.8915\n",
      "Epoch 32/50\n",
      "189/189 [==============================] - 19s 99ms/step - loss: 0.2953 - sparse_categorical_accuracy: 0.9017\n",
      "Epoch 33/50\n",
      "189/189 [==============================] - 19s 99ms/step - loss: 0.2382 - sparse_categorical_accuracy: 0.9203\n",
      "Epoch 34/50\n",
      "189/189 [==============================] - 19s 99ms/step - loss: 0.1913 - sparse_categorical_accuracy: 0.9354\n",
      "Epoch 35/50\n",
      "189/189 [==============================] - 19s 99ms/step - loss: 0.1771 - sparse_categorical_accuracy: 0.9394\n",
      "Epoch 36/50\n",
      "189/189 [==============================] - 19s 99ms/step - loss: 0.1653 - sparse_categorical_accuracy: 0.9451\n",
      "Epoch 37/50\n",
      "189/189 [==============================] - 19s 99ms/step - loss: 0.1583 - sparse_categorical_accuracy: 0.9474\n",
      "Epoch 38/50\n",
      "189/189 [==============================] - 19s 99ms/step - loss: 0.1504 - sparse_categorical_accuracy: 0.9496\n",
      "Epoch 39/50\n",
      "189/189 [==============================] - 19s 99ms/step - loss: 0.1439 - sparse_categorical_accuracy: 0.9511\n",
      "Epoch 40/50\n",
      "189/189 [==============================] - 19s 99ms/step - loss: 0.1409 - sparse_categorical_accuracy: 0.9531\n",
      "Epoch 41/50\n",
      "189/189 [==============================] - 19s 99ms/step - loss: 0.1365 - sparse_categorical_accuracy: 0.9538\n",
      "Epoch 42/50\n",
      "189/189 [==============================] - 19s 99ms/step - loss: 0.1392 - sparse_categorical_accuracy: 0.9536\n",
      "Epoch 43/50\n",
      "189/189 [==============================] - 19s 99ms/step - loss: 0.1338 - sparse_categorical_accuracy: 0.9547\n",
      "Epoch 44/50\n",
      "189/189 [==============================] - 19s 99ms/step - loss: 0.1237 - sparse_categorical_accuracy: 0.9591\n",
      "Epoch 45/50\n",
      "189/189 [==============================] - 19s 99ms/step - loss: 0.1168 - sparse_categorical_accuracy: 0.9612\n",
      "Epoch 46/50\n",
      "189/189 [==============================] - 19s 99ms/step - loss: 0.1163 - sparse_categorical_accuracy: 0.9599\n",
      "Epoch 47/50\n",
      "189/189 [==============================] - 19s 99ms/step - loss: 0.1097 - sparse_categorical_accuracy: 0.9637\n",
      "Epoch 48/50\n",
      "189/189 [==============================] - 19s 99ms/step - loss: 0.1099 - sparse_categorical_accuracy: 0.9635\n",
      "Epoch 49/50\n",
      "189/189 [==============================] - 19s 99ms/step - loss: 0.1103 - sparse_categorical_accuracy: 0.9633\n",
      "Epoch 50/50\n",
      "189/189 [==============================] - 19s 99ms/step - loss: 0.1065 - sparse_categorical_accuracy: 0.9643\n",
      "313/313 [==============================] - 6s 13ms/step - loss: 1.0423 - sparse_categorical_accuracy: 0.7766\n",
      "Test accuracy: 77.66%\n"
     ]
    }
   ],
   "source": [
    "history = classifier.fit(x=x_train, y=y_train, batch_size=batch_size, epochs=num_epochs)\n",
    "\n",
    "accuracy = classifier.evaluate(x_test, y_test)[1]\n",
    "print(f\"Test accuracy: {round(accuracy * 100, 2)}%\")"
   ]
  },
  {
   "cell_type": "markdown",
   "id": "34facf00",
   "metadata": {
    "papermill": {
     "duration": 0.777909,
     "end_time": "2024-07-31T16:00:39.220366",
     "exception": false,
     "start_time": "2024-07-31T16:00:38.442457",
     "status": "completed"
    },
    "tags": []
   },
   "source": [
    "# Sử dụng Học tương phản có giám sát"
   ]
  },
  {
   "cell_type": "code",
   "execution_count": 14,
   "id": "d64ccabf",
   "metadata": {
    "execution": {
     "iopub.execute_input": "2024-07-31T16:00:40.866658Z",
     "iopub.status.busy": "2024-07-31T16:00:40.865739Z",
     "iopub.status.idle": "2024-07-31T16:00:40.872969Z",
     "shell.execute_reply": "2024-07-31T16:00:40.872058Z"
    },
    "papermill": {
     "duration": 0.788941,
     "end_time": "2024-07-31T16:00:40.874902",
     "exception": false,
     "start_time": "2024-07-31T16:00:40.085961",
     "status": "completed"
    },
    "tags": []
   },
   "outputs": [],
   "source": [
    "class SupervisedContrastiveLoss(keras.losses.Loss):\n",
    "    def __init__(self, temperature=1, name=None):\n",
    "        super().__init__(name=name)\n",
    "        self.temperature = temperature\n",
    "\n",
    "    def __call__(self, labels, feature_vectors, sample_weight=None):\n",
    "        # Chuẩn hóa các vector đặc trưng\n",
    "        feature_vectors_normalized = tf.math.l2_normalize(feature_vectors, axis=1)\n",
    "        # Tính logits\n",
    "        logits = tf.divide(\n",
    "            tf.matmul(\n",
    "                feature_vectors_normalized, tf.transpose(feature_vectors_normalized)\n",
    "            ),\n",
    "            self.temperature,\n",
    "        )\n",
    "        return tfa.losses.npairs_loss(tf.squeeze(labels), logits)"
   ]
  },
  {
   "cell_type": "code",
   "execution_count": 15,
   "id": "4015f4ed",
   "metadata": {
    "execution": {
     "iopub.execute_input": "2024-07-31T16:00:42.473779Z",
     "iopub.status.busy": "2024-07-31T16:00:42.472987Z",
     "iopub.status.idle": "2024-07-31T16:00:42.478443Z",
     "shell.execute_reply": "2024-07-31T16:00:42.477563Z"
    },
    "papermill": {
     "duration": 0.777839,
     "end_time": "2024-07-31T16:00:42.480251",
     "exception": false,
     "start_time": "2024-07-31T16:00:41.702412",
     "status": "completed"
    },
    "tags": []
   },
   "outputs": [],
   "source": [
    "def add_projection_head(encoder):\n",
    "    inputs = keras.Input(shape=input_shape)\n",
    "    features = encoder(inputs)\n",
    "    outputs = layers.Dense(projection_units, activation=\"relu\")(features)\n",
    "    model = keras.Model(\n",
    "        inputs=inputs, outputs=outputs, name=\"cifar-encoder_with_projection-head\"\n",
    "    )\n",
    "    return model"
   ]
  },
  {
   "cell_type": "markdown",
   "id": "97439510",
   "metadata": {
    "papermill": {
     "duration": 0.82107,
     "end_time": "2024-07-31T16:00:44.083619",
     "exception": false,
     "start_time": "2024-07-31T16:00:43.262549",
     "status": "completed"
    },
    "tags": []
   },
   "source": [
    "# Huấn luyện"
   ]
  },
  {
   "cell_type": "code",
   "execution_count": 16,
   "id": "179fca68",
   "metadata": {
    "execution": {
     "iopub.execute_input": "2024-07-31T16:00:45.654458Z",
     "iopub.status.busy": "2024-07-31T16:00:45.654098Z",
     "iopub.status.idle": "2024-07-31T16:00:47.972287Z",
     "shell.execute_reply": "2024-07-31T16:00:47.971187Z"
    },
    "papermill": {
     "duration": 3.110881,
     "end_time": "2024-07-31T16:00:47.974669",
     "exception": false,
     "start_time": "2024-07-31T16:00:44.863788",
     "status": "completed"
    },
    "tags": []
   },
   "outputs": [
    {
     "name": "stdout",
     "output_type": "stream",
     "text": [
      "Model: \"cifar-encoder_with_projection-head\"\n",
      "_________________________________________________________________\n",
      " Layer (type)                Output Shape              Param #   \n",
      "=================================================================\n",
      " input_8 (InputLayer)        [(None, 32, 32, 3)]       0         \n",
      "                                                                 \n",
      " cifar10-encoder (Functiona  (None, 2048)              23564807  \n",
      " l)                                                              \n",
      "                                                                 \n",
      " dense_2 (Dense)             (None, 128)               262272    \n",
      "                                                                 \n",
      "=================================================================\n",
      "Total params: 23827079 (90.89 MB)\n",
      "Trainable params: 23781632 (90.72 MB)\n",
      "Non-trainable params: 45447 (177.53 KB)\n",
      "_________________________________________________________________\n"
     ]
    }
   ],
   "source": [
    "encoder = create_encoder()\n",
    "encoder_projection_head = add_projection_head(encoder)\n",
    "encoder_projection_head.compile(\n",
    "    optimizer=keras.optimizers.Adam(learning_rate),\n",
    "    loss=SupervisedContrastiveLoss(temperature),\n",
    ")\n",
    "\n",
    "encoder_projection_head.summary()"
   ]
  },
  {
   "cell_type": "code",
   "execution_count": 17,
   "id": "0bf74f3f",
   "metadata": {
    "execution": {
     "iopub.execute_input": "2024-07-31T16:00:49.583649Z",
     "iopub.status.busy": "2024-07-31T16:00:49.582923Z",
     "iopub.status.idle": "2024-07-31T16:16:47.413302Z",
     "shell.execute_reply": "2024-07-31T16:16:47.412367Z"
    },
    "papermill": {
     "duration": 958.603083,
     "end_time": "2024-07-31T16:16:47.415270",
     "exception": false,
     "start_time": "2024-07-31T16:00:48.812187",
     "status": "completed"
    },
    "tags": []
   },
   "outputs": [
    {
     "name": "stdout",
     "output_type": "stream",
     "text": [
      "Epoch 1/50\n",
      "189/189 [==============================] - 43s 99ms/step - loss: 5.3294\n",
      "Epoch 2/50\n",
      "189/189 [==============================] - 19s 101ms/step - loss: 5.0799\n",
      "Epoch 3/50\n",
      "189/189 [==============================] - 19s 100ms/step - loss: 4.9304\n",
      "Epoch 4/50\n",
      "189/189 [==============================] - 19s 98ms/step - loss: 4.8189\n",
      "Epoch 5/50\n",
      "189/189 [==============================] - 19s 98ms/step - loss: 4.7084\n",
      "Epoch 6/50\n",
      "189/189 [==============================] - 19s 99ms/step - loss: 4.6089\n",
      "Epoch 7/50\n",
      "189/189 [==============================] - 19s 99ms/step - loss: 4.5337\n",
      "Epoch 8/50\n",
      "189/189 [==============================] - 19s 99ms/step - loss: 4.4563\n",
      "Epoch 9/50\n",
      "189/189 [==============================] - 19s 99ms/step - loss: 4.3853\n",
      "Epoch 10/50\n",
      "189/189 [==============================] - 19s 99ms/step - loss: 4.3285\n",
      "Epoch 11/50\n",
      "189/189 [==============================] - 19s 99ms/step - loss: 4.2769\n",
      "Epoch 12/50\n",
      "189/189 [==============================] - 19s 99ms/step - loss: 4.2191\n",
      "Epoch 13/50\n",
      "189/189 [==============================] - 19s 99ms/step - loss: 4.1761\n",
      "Epoch 14/50\n",
      "189/189 [==============================] - 19s 99ms/step - loss: 4.1289\n",
      "Epoch 15/50\n",
      "189/189 [==============================] - 19s 99ms/step - loss: 4.0883\n",
      "Epoch 16/50\n",
      "189/189 [==============================] - 19s 99ms/step - loss: 4.0498\n",
      "Epoch 17/50\n",
      "189/189 [==============================] - 19s 99ms/step - loss: 4.0147\n",
      "Epoch 18/50\n",
      "189/189 [==============================] - 19s 99ms/step - loss: 3.9826\n",
      "Epoch 19/50\n",
      "189/189 [==============================] - 19s 99ms/step - loss: 3.9472\n",
      "Epoch 20/50\n",
      "189/189 [==============================] - 19s 99ms/step - loss: 3.9185\n",
      "Epoch 21/50\n",
      "189/189 [==============================] - 19s 99ms/step - loss: 3.8788\n",
      "Epoch 22/50\n",
      "189/189 [==============================] - 19s 99ms/step - loss: 3.8592\n",
      "Epoch 23/50\n",
      "189/189 [==============================] - 19s 99ms/step - loss: 3.8396\n",
      "Epoch 24/50\n",
      "189/189 [==============================] - 19s 99ms/step - loss: 3.8083\n",
      "Epoch 25/50\n",
      "189/189 [==============================] - 19s 99ms/step - loss: 3.7855\n",
      "Epoch 26/50\n",
      "189/189 [==============================] - 19s 99ms/step - loss: 3.7580\n",
      "Epoch 27/50\n",
      "189/189 [==============================] - 19s 99ms/step - loss: 3.7374\n",
      "Epoch 28/50\n",
      "189/189 [==============================] - 19s 99ms/step - loss: 3.7219\n",
      "Epoch 29/50\n",
      "189/189 [==============================] - 19s 99ms/step - loss: 3.6915\n",
      "Epoch 30/50\n",
      "189/189 [==============================] - 19s 99ms/step - loss: 3.6797\n",
      "Epoch 31/50\n",
      "189/189 [==============================] - 19s 99ms/step - loss: 3.6664\n",
      "Epoch 32/50\n",
      "189/189 [==============================] - 19s 99ms/step - loss: 3.6455\n",
      "Epoch 33/50\n",
      "189/189 [==============================] - 19s 99ms/step - loss: 3.6430\n",
      "Epoch 34/50\n",
      "189/189 [==============================] - 19s 99ms/step - loss: 3.6212\n",
      "Epoch 35/50\n",
      "189/189 [==============================] - 19s 99ms/step - loss: 3.6209\n",
      "Epoch 36/50\n",
      "189/189 [==============================] - 19s 99ms/step - loss: 3.5983\n",
      "Epoch 37/50\n",
      "189/189 [==============================] - 19s 99ms/step - loss: 3.5800\n",
      "Epoch 38/50\n",
      "189/189 [==============================] - 19s 99ms/step - loss: 3.5763\n",
      "Epoch 39/50\n",
      "189/189 [==============================] - 19s 99ms/step - loss: 3.5625\n",
      "Epoch 40/50\n",
      "189/189 [==============================] - 19s 99ms/step - loss: 3.5516\n",
      "Epoch 41/50\n",
      "189/189 [==============================] - 19s 99ms/step - loss: 3.5503\n",
      "Epoch 42/50\n",
      "189/189 [==============================] - 19s 99ms/step - loss: 3.5417\n",
      "Epoch 43/50\n",
      "189/189 [==============================] - 19s 98ms/step - loss: 3.5347\n",
      "Epoch 44/50\n",
      "189/189 [==============================] - 19s 98ms/step - loss: 3.5168\n",
      "Epoch 45/50\n",
      "189/189 [==============================] - 19s 98ms/step - loss: 3.5172\n",
      "Epoch 46/50\n",
      "189/189 [==============================] - 19s 99ms/step - loss: 3.5135\n",
      "Epoch 47/50\n",
      "189/189 [==============================] - 19s 99ms/step - loss: 3.5030\n",
      "Epoch 48/50\n",
      "189/189 [==============================] - 19s 98ms/step - loss: 3.4890\n",
      "Epoch 49/50\n",
      "189/189 [==============================] - 19s 98ms/step - loss: 3.4917\n",
      "Epoch 50/50\n",
      "189/189 [==============================] - 19s 99ms/step - loss: 3.4898\n"
     ]
    }
   ],
   "source": [
    "history = encoder_projection_head.fit(\n",
    "    x=x_train, y=y_train, batch_size=batch_size, epochs=num_epochs\n",
    ")"
   ]
  },
  {
   "cell_type": "markdown",
   "id": "04e7b609",
   "metadata": {
    "papermill": {
     "duration": 1.624567,
     "end_time": "2024-07-31T16:16:50.642080",
     "exception": false,
     "start_time": "2024-07-31T16:16:49.017513",
     "status": "completed"
    },
    "tags": []
   },
   "source": [
    "# Huấn luyện phân loại với frozen encoder"
   ]
  },
  {
   "cell_type": "code",
   "execution_count": 18,
   "id": "f36e2b1b",
   "metadata": {
    "execution": {
     "iopub.execute_input": "2024-07-31T16:16:53.763975Z",
     "iopub.status.busy": "2024-07-31T16:16:53.763580Z",
     "iopub.status.idle": "2024-07-31T16:21:00.475798Z",
     "shell.execute_reply": "2024-07-31T16:21:00.474934Z"
    },
    "papermill": {
     "duration": 248.248344,
     "end_time": "2024-07-31T16:21:00.477727",
     "exception": false,
     "start_time": "2024-07-31T16:16:52.229383",
     "status": "completed"
    },
    "tags": []
   },
   "outputs": [
    {
     "name": "stdout",
     "output_type": "stream",
     "text": [
      "Epoch 1/50\n",
      "189/189 [==============================] - 8s 25ms/step - loss: 0.1554 - sparse_categorical_accuracy: 0.9627\n",
      "Epoch 2/50\n",
      "189/189 [==============================] - 5s 25ms/step - loss: 0.1189 - sparse_categorical_accuracy: 0.9689\n",
      "Epoch 3/50\n",
      "189/189 [==============================] - 5s 25ms/step - loss: 0.1110 - sparse_categorical_accuracy: 0.9695\n",
      "Epoch 4/50\n",
      "189/189 [==============================] - 5s 25ms/step - loss: 0.1079 - sparse_categorical_accuracy: 0.9708\n",
      "Epoch 5/50\n",
      "189/189 [==============================] - 5s 25ms/step - loss: 0.1062 - sparse_categorical_accuracy: 0.9701\n",
      "Epoch 6/50\n",
      "189/189 [==============================] - 5s 26ms/step - loss: 0.1070 - sparse_categorical_accuracy: 0.9703\n",
      "Epoch 7/50\n",
      "189/189 [==============================] - 5s 26ms/step - loss: 0.1077 - sparse_categorical_accuracy: 0.9694\n",
      "Epoch 8/50\n",
      "189/189 [==============================] - 5s 25ms/step - loss: 0.1040 - sparse_categorical_accuracy: 0.9697\n",
      "Epoch 9/50\n",
      "189/189 [==============================] - 5s 25ms/step - loss: 0.1033 - sparse_categorical_accuracy: 0.9703\n",
      "Epoch 10/50\n",
      "189/189 [==============================] - 5s 25ms/step - loss: 0.1015 - sparse_categorical_accuracy: 0.9717\n",
      "Epoch 11/50\n",
      "189/189 [==============================] - 5s 25ms/step - loss: 0.1051 - sparse_categorical_accuracy: 0.9705\n",
      "Epoch 12/50\n",
      "189/189 [==============================] - 5s 25ms/step - loss: 0.1040 - sparse_categorical_accuracy: 0.9709\n",
      "Epoch 13/50\n",
      "189/189 [==============================] - 5s 25ms/step - loss: 0.1048 - sparse_categorical_accuracy: 0.9702\n",
      "Epoch 14/50\n",
      "189/189 [==============================] - 5s 25ms/step - loss: 0.1010 - sparse_categorical_accuracy: 0.9710\n",
      "Epoch 15/50\n",
      "189/189 [==============================] - 5s 25ms/step - loss: 0.1026 - sparse_categorical_accuracy: 0.9708\n",
      "Epoch 16/50\n",
      "189/189 [==============================] - 5s 25ms/step - loss: 0.1011 - sparse_categorical_accuracy: 0.9710\n",
      "Epoch 17/50\n",
      "189/189 [==============================] - 5s 25ms/step - loss: 0.1071 - sparse_categorical_accuracy: 0.9697\n",
      "Epoch 18/50\n",
      "189/189 [==============================] - 5s 25ms/step - loss: 0.1042 - sparse_categorical_accuracy: 0.9713\n",
      "Epoch 19/50\n",
      "189/189 [==============================] - 5s 25ms/step - loss: 0.1038 - sparse_categorical_accuracy: 0.9694\n",
      "Epoch 20/50\n",
      "189/189 [==============================] - 5s 25ms/step - loss: 0.1027 - sparse_categorical_accuracy: 0.9697\n",
      "Epoch 21/50\n",
      "189/189 [==============================] - 5s 25ms/step - loss: 0.1010 - sparse_categorical_accuracy: 0.9713\n",
      "Epoch 22/50\n",
      "189/189 [==============================] - 5s 25ms/step - loss: 0.1025 - sparse_categorical_accuracy: 0.9700\n",
      "Epoch 23/50\n",
      "189/189 [==============================] - 5s 25ms/step - loss: 0.1009 - sparse_categorical_accuracy: 0.9710\n",
      "Epoch 24/50\n",
      "189/189 [==============================] - 5s 25ms/step - loss: 0.1010 - sparse_categorical_accuracy: 0.9713\n",
      "Epoch 25/50\n",
      "189/189 [==============================] - 5s 25ms/step - loss: 0.1045 - sparse_categorical_accuracy: 0.9704\n",
      "Epoch 26/50\n",
      "189/189 [==============================] - 5s 25ms/step - loss: 0.1024 - sparse_categorical_accuracy: 0.9709\n",
      "Epoch 27/50\n",
      "189/189 [==============================] - 5s 25ms/step - loss: 0.1066 - sparse_categorical_accuracy: 0.9706\n",
      "Epoch 28/50\n",
      "189/189 [==============================] - 5s 25ms/step - loss: 0.1018 - sparse_categorical_accuracy: 0.9718\n",
      "Epoch 29/50\n",
      "189/189 [==============================] - 5s 25ms/step - loss: 0.1040 - sparse_categorical_accuracy: 0.9704\n",
      "Epoch 30/50\n",
      "189/189 [==============================] - 5s 25ms/step - loss: 0.1017 - sparse_categorical_accuracy: 0.9710\n",
      "Epoch 31/50\n",
      "189/189 [==============================] - 5s 25ms/step - loss: 0.1074 - sparse_categorical_accuracy: 0.9696\n",
      "Epoch 32/50\n",
      "189/189 [==============================] - 5s 25ms/step - loss: 0.1047 - sparse_categorical_accuracy: 0.9708\n",
      "Epoch 33/50\n",
      "189/189 [==============================] - 5s 25ms/step - loss: 0.1052 - sparse_categorical_accuracy: 0.9696\n",
      "Epoch 34/50\n",
      "189/189 [==============================] - 5s 25ms/step - loss: 0.1033 - sparse_categorical_accuracy: 0.9702\n",
      "Epoch 35/50\n",
      "189/189 [==============================] - 5s 25ms/step - loss: 0.1024 - sparse_categorical_accuracy: 0.9710\n",
      "Epoch 36/50\n",
      "189/189 [==============================] - 5s 25ms/step - loss: 0.1062 - sparse_categorical_accuracy: 0.9701\n",
      "Epoch 37/50\n",
      "189/189 [==============================] - 5s 25ms/step - loss: 0.1018 - sparse_categorical_accuracy: 0.9709\n",
      "Epoch 38/50\n",
      "189/189 [==============================] - 5s 25ms/step - loss: 0.1035 - sparse_categorical_accuracy: 0.9701\n",
      "Epoch 39/50\n",
      "189/189 [==============================] - 5s 25ms/step - loss: 0.1014 - sparse_categorical_accuracy: 0.9716\n",
      "Epoch 40/50\n",
      "189/189 [==============================] - 5s 25ms/step - loss: 0.1036 - sparse_categorical_accuracy: 0.9695\n",
      "Epoch 41/50\n",
      "189/189 [==============================] - 5s 25ms/step - loss: 0.1016 - sparse_categorical_accuracy: 0.9700\n",
      "Epoch 42/50\n",
      "189/189 [==============================] - 5s 25ms/step - loss: 0.1018 - sparse_categorical_accuracy: 0.9703\n",
      "Epoch 43/50\n",
      "189/189 [==============================] - 5s 25ms/step - loss: 0.0996 - sparse_categorical_accuracy: 0.9710\n",
      "Epoch 44/50\n",
      "189/189 [==============================] - 5s 25ms/step - loss: 0.1044 - sparse_categorical_accuracy: 0.9701\n",
      "Epoch 45/50\n",
      "189/189 [==============================] - 5s 25ms/step - loss: 0.1049 - sparse_categorical_accuracy: 0.9701\n",
      "Epoch 46/50\n",
      "189/189 [==============================] - 5s 25ms/step - loss: 0.1038 - sparse_categorical_accuracy: 0.9701\n",
      "Epoch 47/50\n",
      "189/189 [==============================] - 5s 25ms/step - loss: 0.1017 - sparse_categorical_accuracy: 0.9704\n",
      "Epoch 48/50\n",
      "189/189 [==============================] - 5s 25ms/step - loss: 0.1011 - sparse_categorical_accuracy: 0.9710\n",
      "Epoch 49/50\n",
      "189/189 [==============================] - 5s 25ms/step - loss: 0.1091 - sparse_categorical_accuracy: 0.9689\n",
      "Epoch 50/50\n",
      "189/189 [==============================] - 5s 25ms/step - loss: 0.1027 - sparse_categorical_accuracy: 0.9710\n",
      "313/313 [==============================] - 4s 10ms/step - loss: 1.0011 - sparse_categorical_accuracy: 0.7988\n",
      "Test accuracy: 79.88%\n"
     ]
    }
   ],
   "source": [
    "classifier = create_classifier(encoder, trainable=False)\n",
    "\n",
    "history = classifier.fit(x=x_train, y=y_train, batch_size=batch_size, epochs=num_epochs)\n",
    "\n",
    "accuracy = classifier.evaluate(x_test, y_test)[1]\n",
    "print(f\"Test accuracy: {round(accuracy * 100, 2)}%\")"
   ]
  }
 ],
 "metadata": {
  "kaggle": {
   "accelerator": "nvidiaTeslaT4",
   "dataSources": [],
   "dockerImageVersionId": 30747,
   "isGpuEnabled": true,
   "isInternetEnabled": true,
   "language": "python",
   "sourceType": "notebook"
  },
  "kernelspec": {
   "display_name": "Python 3",
   "language": "python",
   "name": "python3"
  },
  "language_info": {
   "codemirror_mode": {
    "name": "ipython",
    "version": 3
   },
   "file_extension": ".py",
   "mimetype": "text/x-python",
   "name": "python",
   "nbconvert_exporter": "python",
   "pygments_lexer": "ipython3",
   "version": "3.10.13"
  },
  "papermill": {
   "default_parameters": {},
   "duration": 2293.010046,
   "end_time": "2024-07-31T16:21:05.645727",
   "environment_variables": {},
   "exception": null,
   "input_path": "__notebook__.ipynb",
   "output_path": "__notebook__.ipynb",
   "parameters": {},
   "start_time": "2024-07-31T15:42:52.635681",
   "version": "2.5.0"
  }
 },
 "nbformat": 4,
 "nbformat_minor": 5
}
