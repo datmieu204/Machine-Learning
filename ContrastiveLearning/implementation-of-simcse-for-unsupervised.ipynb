{
 "cells": [
  {
   "cell_type": "code",
   "execution_count": 1,
   "id": "c96490d1",
   "metadata": {
    "_cell_guid": "b1076dfc-b9ad-4769-8c92-a6c4dae69d19",
    "_uuid": "8f2839f25d086af736a60e9eeb907d3b93b6e0e5",
    "execution": {
     "iopub.execute_input": "2024-08-03T05:29:20.177077Z",
     "iopub.status.busy": "2024-08-03T05:29:20.176659Z",
     "iopub.status.idle": "2024-08-03T05:29:27.084533Z",
     "shell.execute_reply": "2024-08-03T05:29:27.083759Z"
    },
    "papermill": {
     "duration": 6.921152,
     "end_time": "2024-08-03T05:29:27.086993",
     "exception": false,
     "start_time": "2024-08-03T05:29:20.165841",
     "status": "completed"
    },
    "tags": []
   },
   "outputs": [],
   "source": [
    "import random\n",
    "import transformers\n",
    "import pandas as pd\n",
    "import numpy as np\n",
    "import os\n",
    "import functools\n",
    "import torch\n",
    "from tqdm import tqdm\n",
    "import torch.nn as nn\n",
    "from torch.optim import AdamW\n",
    "from transformers import get_linear_schedule_with_warmup\n",
    "import transformers\n",
    "from transformers.models.bert.modeling_bert import BertPreTrainedModel, BertModel\n",
    "from transformers.modeling_outputs import SequenceClassifierOutput, BaseModelOutputWithPoolingAndCrossAttentions\n",
    "\n",
    "from sklearn.model_selection import train_test_split\n",
    "from torch.utils.data import Dataset, dataloader\n",
    "from transformers import AutoConfig, AutoTokenizer\n",
    "from torch.utils.data import DataLoader,SequentialSampler,RandomSampler"
   ]
  },
  {
   "cell_type": "markdown",
   "id": "b5dacb28",
   "metadata": {
    "papermill": {
     "duration": 0.008301,
     "end_time": "2024-08-03T05:29:27.104656",
     "exception": false,
     "start_time": "2024-08-03T05:29:27.096355",
     "status": "completed"
    },
    "tags": []
   },
   "source": [
    "# Mô hình"
   ]
  },
  {
   "cell_type": "code",
   "execution_count": 2,
   "id": "9881a161",
   "metadata": {
    "execution": {
     "iopub.execute_input": "2024-08-03T05:29:27.123989Z",
     "iopub.status.busy": "2024-08-03T05:29:27.123490Z",
     "iopub.status.idle": "2024-08-03T05:29:27.129234Z",
     "shell.execute_reply": "2024-08-03T05:29:27.128297Z"
    },
    "papermill": {
     "duration": 0.017069,
     "end_time": "2024-08-03T05:29:27.131159",
     "exception": false,
     "start_time": "2024-08-03T05:29:27.114090",
     "status": "completed"
    },
    "tags": []
   },
   "outputs": [],
   "source": [
    "class MLPLayer(nn.Module):\n",
    "    def __init__(self, config):\n",
    "        super().__init__()\n",
    "        self.dense = nn.Linear(config.hidden_size, config.hidden_size)\n",
    "        self.activation = nn.Tanh()\n",
    "\n",
    "    def forward(self, features, **kwargs):\n",
    "        x = self.dense(features)\n",
    "        x = self.activation(x)\n",
    "        return x"
   ]
  },
  {
   "cell_type": "code",
   "execution_count": 3,
   "id": "bc4cbb2c",
   "metadata": {
    "execution": {
     "iopub.execute_input": "2024-08-03T05:29:27.149067Z",
     "iopub.status.busy": "2024-08-03T05:29:27.148720Z",
     "iopub.status.idle": "2024-08-03T05:29:27.154106Z",
     "shell.execute_reply": "2024-08-03T05:29:27.153218Z"
    },
    "papermill": {
     "duration": 0.016465,
     "end_time": "2024-08-03T05:29:27.156007",
     "exception": false,
     "start_time": "2024-08-03T05:29:27.139542",
     "status": "completed"
    },
    "tags": []
   },
   "outputs": [],
   "source": [
    "class Similarity(nn.Module):\n",
    "    def __init__(self, temp):\n",
    "        super().__init__()\n",
    "        self.temp = temp\n",
    "        self.cos = nn.CosineSimilarity(dim=-1)\n",
    "\n",
    "    def forward(self, x, y):\n",
    "        return self.cos(x, y) / self.temp"
   ]
  },
  {
   "cell_type": "code",
   "execution_count": 4,
   "id": "948f66fe",
   "metadata": {
    "execution": {
     "iopub.execute_input": "2024-08-03T05:29:27.173859Z",
     "iopub.status.busy": "2024-08-03T05:29:27.173545Z",
     "iopub.status.idle": "2024-08-03T05:29:27.179879Z",
     "shell.execute_reply": "2024-08-03T05:29:27.179005Z"
    },
    "papermill": {
     "duration": 0.017485,
     "end_time": "2024-08-03T05:29:27.181866",
     "exception": false,
     "start_time": "2024-08-03T05:29:27.164381",
     "status": "completed"
    },
    "tags": []
   },
   "outputs": [],
   "source": [
    "class Pooler(nn.Module):\n",
    "    def __init__(self, pooler_type):\n",
    "        super().__init__()\n",
    "        self.pooler_type = pooler_type\n",
    "        assert self.pooler_type in [\"cls\", \"cls_before_pooler\", \"avg\", \"avg_top2\", \"avg_first_last\"], \"unrecognized pooling type %s\" % self.pooler_type\n",
    "\n",
    "    def forward(self, attention_mask, outputs):\n",
    "        last_hidden = outputs.last_hidden_state\n",
    "        pooler_output = outputs.pooler_output\n",
    "        hidden_states = outputs.hidden_states\n",
    "\n",
    "        if self.pooler_type in ['cls_before_pooler', 'cls']:\n",
    "            return last_hidden[:, 0]\n",
    "        else:\n",
    "            raise NotImplementedError"
   ]
  },
  {
   "cell_type": "code",
   "execution_count": 5,
   "id": "5c8485cb",
   "metadata": {
    "execution": {
     "iopub.execute_input": "2024-08-03T05:29:27.200016Z",
     "iopub.status.busy": "2024-08-03T05:29:27.199671Z",
     "iopub.status.idle": "2024-08-03T05:29:27.204504Z",
     "shell.execute_reply": "2024-08-03T05:29:27.203636Z"
    },
    "papermill": {
     "duration": 0.0161,
     "end_time": "2024-08-03T05:29:27.206468",
     "exception": false,
     "start_time": "2024-08-03T05:29:27.190368",
     "status": "completed"
    },
    "tags": []
   },
   "outputs": [],
   "source": [
    "class ArgumentsModel():\n",
    "    def __init__(self): \n",
    "        self.temp = 0.05 # Temperature for softmax.\n",
    "        self.pooler_type = 'cls' #What kind of pooler to use \n",
    "        # Number of sentences in one instance\n",
    "        # 2: pair instance; 3: pair instance with a hard negative\n",
    "        self.num_sent = 2\n",
    "\n",
    "args_model = ArgumentsModel()"
   ]
  },
  {
   "cell_type": "code",
   "execution_count": 6,
   "id": "3baa7bfc",
   "metadata": {
    "execution": {
     "iopub.execute_input": "2024-08-03T05:29:27.225380Z",
     "iopub.status.busy": "2024-08-03T05:29:27.225089Z",
     "iopub.status.idle": "2024-08-03T05:29:27.230043Z",
     "shell.execute_reply": "2024-08-03T05:29:27.229141Z"
    },
    "papermill": {
     "duration": 0.016254,
     "end_time": "2024-08-03T05:29:27.232061",
     "exception": false,
     "start_time": "2024-08-03T05:29:27.215807",
     "status": "completed"
    },
    "tags": []
   },
   "outputs": [],
   "source": [
    "def cl_init(cls, config):\n",
    "    cls.pooler_type = args_model.pooler_type\n",
    "    cls.pooler = Pooler(args_model.pooler_type)\n",
    "    cls.mlp = MLPLayer(config)\n",
    "    cls.sim = Similarity(temp=args_model.temp)\n",
    "    cls.init_weights()"
   ]
  },
  {
   "cell_type": "code",
   "execution_count": 7,
   "id": "d3684312",
   "metadata": {
    "execution": {
     "iopub.execute_input": "2024-08-03T05:29:27.249985Z",
     "iopub.status.busy": "2024-08-03T05:29:27.249694Z",
     "iopub.status.idle": "2024-08-03T05:29:27.261474Z",
     "shell.execute_reply": "2024-08-03T05:29:27.260575Z"
    },
    "papermill": {
     "duration": 0.022999,
     "end_time": "2024-08-03T05:29:27.263531",
     "exception": false,
     "start_time": "2024-08-03T05:29:27.240532",
     "status": "completed"
    },
    "tags": []
   },
   "outputs": [],
   "source": [
    "def cl_forward(cls,encoder,input_ids=None,attention_mask=None,token_type_ids=None,position_ids=None,\n",
    "    head_mask=None,inputs_embeds=None,labels=None,output_attentions=None,output_hidden_states=None,\n",
    "    return_dict=None,\n",
    "):\n",
    "    #import ipdb; ipdb.set_trace();\n",
    "    return_dict = return_dict if return_dict is not None else cls.config.use_return_dict\n",
    "    batch_size = int(input_ids.size(0)/2)\n",
    "    \n",
    "    # Get raw embeddings\n",
    "    outputs = encoder(\n",
    "        input_ids,\n",
    "        attention_mask=attention_mask,\n",
    "        token_type_ids=token_type_ids,\n",
    "        position_ids=position_ids,\n",
    "        head_mask=head_mask,\n",
    "        inputs_embeds=inputs_embeds,\n",
    "        output_attentions=output_attentions,\n",
    "        output_hidden_states=False if args_model.pooler_type == 'cls' else True,\n",
    "        return_dict=True,\n",
    "    )\n",
    "\n",
    "    # Pooling\n",
    "    pooler_output = cls.pooler(attention_mask, outputs)\n",
    "    pooler_output = pooler_output.view((batch_size, args_model.num_sent, pooler_output.size(-1))) # (bs, num_sent, hidden)\n",
    "\n",
    "    # If using \"cls\", we add an extra MLP layer\n",
    "    # (same as BERT's original implementation) over the representation.\n",
    "    if cls.pooler_type == \"cls\":\n",
    "        pooler_output = cls.mlp(pooler_output)\n",
    "\n",
    "    # Separate representation\n",
    "    z1, z2 = pooler_output[:,0], pooler_output[:,1]\n",
    "    cos_sim = cls.sim(z1.unsqueeze(1), z2.unsqueeze(0))\n",
    "    labels = torch.arange(cos_sim.size(0)).long().to(cls.device)\n",
    "    loss_fct = nn.CrossEntropyLoss()\n",
    "\n",
    "    loss = loss_fct(cos_sim, labels)\n",
    "\n",
    "    if not return_dict:\n",
    "        output = (cos_sim,) + outputs[2:]\n",
    "        return ((loss,) + output) if loss is not None else output\n",
    "    return SequenceClassifierOutput(\n",
    "        loss=loss,\n",
    "        logits=cos_sim,\n",
    "        hidden_states=outputs.hidden_states,\n",
    "        attentions=outputs.attentions,\n",
    "    )"
   ]
  },
  {
   "cell_type": "code",
   "execution_count": 8,
   "id": "3a753609",
   "metadata": {
    "execution": {
     "iopub.execute_input": "2024-08-03T05:29:27.281797Z",
     "iopub.status.busy": "2024-08-03T05:29:27.281492Z",
     "iopub.status.idle": "2024-08-03T05:29:27.289033Z",
     "shell.execute_reply": "2024-08-03T05:29:27.288177Z"
    },
    "papermill": {
     "duration": 0.018806,
     "end_time": "2024-08-03T05:29:27.291085",
     "exception": false,
     "start_time": "2024-08-03T05:29:27.272279",
     "status": "completed"
    },
    "tags": []
   },
   "outputs": [],
   "source": [
    "def sentemb_forward(cls,encoder,input_ids=None,attention_mask=None,token_type_ids=None,position_ids=None,\n",
    "    head_mask=None,inputs_embeds=None,labels=None,output_attentions=None,output_hidden_states=None,\n",
    "    return_dict=None,\n",
    "):\n",
    "    return_dict = return_dict if return_dict is not None else cls.config.use_return_dict\n",
    "\n",
    "    outputs = encoder(\n",
    "        input_ids,\n",
    "        attention_mask=attention_mask,\n",
    "        token_type_ids=token_type_ids,\n",
    "        position_ids=position_ids,\n",
    "        head_mask=head_mask,\n",
    "        inputs_embeds=inputs_embeds,\n",
    "        output_attentions=output_attentions,\n",
    "        output_hidden_states=True if cls.pooler_type in ['avg_top2', 'avg_first_last'] else False,\n",
    "        return_dict=True,\n",
    "    )\n",
    "\n",
    "    pooler_output = cls.pooler(attention_mask, outputs)\n",
    "    if cls.pooler_type == \"cls\":\n",
    "        pooler_output = cls.mlp(pooler_output)\n",
    "\n",
    "    if not return_dict:\n",
    "        return (outputs[0], pooler_output) + outputs[2:]\n",
    "\n",
    "    return BaseModelOutputWithPoolingAndCrossAttentions(\n",
    "        pooler_output=pooler_output,\n",
    "        last_hidden_state=outputs.last_hidden_state,\n",
    "        hidden_states=outputs.hidden_states,\n",
    "    )"
   ]
  },
  {
   "cell_type": "code",
   "execution_count": 9,
   "id": "d8bb4e85",
   "metadata": {
    "execution": {
     "iopub.execute_input": "2024-08-03T05:29:27.308819Z",
     "iopub.status.busy": "2024-08-03T05:29:27.308528Z",
     "iopub.status.idle": "2024-08-03T05:29:27.316753Z",
     "shell.execute_reply": "2024-08-03T05:29:27.315970Z"
    },
    "papermill": {
     "duration": 0.019374,
     "end_time": "2024-08-03T05:29:27.318849",
     "exception": false,
     "start_time": "2024-08-03T05:29:27.299475",
     "status": "completed"
    },
    "tags": []
   },
   "outputs": [],
   "source": [
    "class BertForCL(BertPreTrainedModel):\n",
    "    _keys_to_ignore_on_load_missing = [r\"position_ids\"]\n",
    "\n",
    "    def __init__(self, config):\n",
    "        super().__init__(config)\n",
    "        #self.model_args = model_kargs[\"model_args\"]\n",
    "        self.bert = BertModel(config)\n",
    "        cl_init(self, config)\n",
    "\n",
    "    def forward(self,input_ids=None,attention_mask=None,token_type_ids=None,position_ids=None,\n",
    "        head_mask=None,inputs_embeds=None,labels=None,output_attentions=None,output_hidden_states=None,\n",
    "        return_dict=None,sent_emb=False,\n",
    "    ):\n",
    "        if sent_emb:\n",
    "            return sentemb_forward(self, self.bert,\n",
    "                input_ids=input_ids,\n",
    "                attention_mask=attention_mask,\n",
    "                token_type_ids=token_type_ids,\n",
    "                position_ids=position_ids,\n",
    "                head_mask=head_mask,\n",
    "                inputs_embeds=inputs_embeds,\n",
    "                labels=labels,\n",
    "                output_attentions=output_attentions,\n",
    "                output_hidden_states=output_hidden_states,\n",
    "                return_dict=return_dict,\n",
    "            )\n",
    "        else:\n",
    "            return cl_forward(self, self.bert,\n",
    "                input_ids=input_ids,\n",
    "                attention_mask=attention_mask,\n",
    "                token_type_ids=token_type_ids,\n",
    "                position_ids=position_ids,\n",
    "                head_mask=head_mask,\n",
    "                inputs_embeds=inputs_embeds,\n",
    "                labels=labels,\n",
    "                output_attentions=output_attentions,\n",
    "                output_hidden_states=output_hidden_states,\n",
    "                return_dict=return_dict,\n",
    "            )"
   ]
  },
  {
   "cell_type": "markdown",
   "id": "14b09634",
   "metadata": {
    "papermill": {
     "duration": 0.00846,
     "end_time": "2024-08-03T05:29:27.335676",
     "exception": false,
     "start_time": "2024-08-03T05:29:27.327216",
     "status": "completed"
    },
    "tags": []
   },
   "source": [
    "# Dữ liệu: \n",
    "/kaggle/input/wiki1m/wiki1m_for_simcse.txt"
   ]
  },
  {
   "cell_type": "code",
   "execution_count": 10,
   "id": "fbba191b",
   "metadata": {
    "execution": {
     "iopub.execute_input": "2024-08-03T05:29:27.353884Z",
     "iopub.status.busy": "2024-08-03T05:29:27.353530Z",
     "iopub.status.idle": "2024-08-03T05:29:27.360631Z",
     "shell.execute_reply": "2024-08-03T05:29:27.359756Z"
    },
    "papermill": {
     "duration": 0.018648,
     "end_time": "2024-08-03T05:29:27.362680",
     "exception": false,
     "start_time": "2024-08-03T05:29:27.344032",
     "status": "completed"
    },
    "tags": []
   },
   "outputs": [],
   "source": [
    "class wiki1mData(Dataset):\n",
    "    def __init__(self, csv_path, training=True, full=False):\n",
    "        df = pd.read_csv(csv_path, sep='\\t', names=[\"text\"])\n",
    "        df.dropna(inplace=True)\n",
    "        source_texts = df[\"text\"].values\n",
    "        target_texts = df[\"text\"].values\n",
    "        data = list(zip(source_texts, target_texts))\n",
    "        if full:\n",
    "            self.data = data\n",
    "        else: \n",
    "            train_data, val_data = train_test_split(data,test_size=0.15,random_state=42,shuffle=False)\n",
    "            self.data = train_data if training else val_data\n",
    "            \n",
    "    def __len__(self):\n",
    "        return len(self.data)\n",
    "    \n",
    "    def __getitem__(self, index):\n",
    "        return self.data[index]"
   ]
  },
  {
   "cell_type": "code",
   "execution_count": 11,
   "id": "e4732a1d",
   "metadata": {
    "execution": {
     "iopub.execute_input": "2024-08-03T05:29:27.380416Z",
     "iopub.status.busy": "2024-08-03T05:29:27.380150Z",
     "iopub.status.idle": "2024-08-03T05:29:27.386099Z",
     "shell.execute_reply": "2024-08-03T05:29:27.385236Z"
    },
    "papermill": {
     "duration": 0.017056,
     "end_time": "2024-08-03T05:29:27.388021",
     "exception": false,
     "start_time": "2024-08-03T05:29:27.370965",
     "status": "completed"
    },
    "tags": []
   },
   "outputs": [],
   "source": [
    "class Arguments():\n",
    "  def __init__(self):\n",
    "    self.model_name_or_path = 'bert-base-uncased'\n",
    "    self.max_seq_length = 32\n",
    "    self.learning_rate = 3e-5 \n",
    "    self.adam_epsilon = 1e-8\n",
    "    self.warmup_proportion = 0.1\n",
    "    self.weight_decay = 0.01\n",
    "    self.num_train_epochs = 1\n",
    "    self.gradient_accumulation_steps = 1\n",
    "    self.pad_to_max_length = True\n",
    "    self.batch_size = 32 \n",
    "    self.output_dir = '/kaggle/working/model_outputs'\n",
    "    self.overwrite = True\n",
    "    self.local_rank = -1\n",
    "    self.no_cuda = False\n",
    "\n",
    "args = Arguments()"
   ]
  },
  {
   "cell_type": "code",
   "execution_count": 12,
   "id": "6ea6dc04",
   "metadata": {
    "execution": {
     "iopub.execute_input": "2024-08-03T05:29:27.406197Z",
     "iopub.status.busy": "2024-08-03T05:29:27.405660Z",
     "iopub.status.idle": "2024-08-03T05:29:27.413719Z",
     "shell.execute_reply": "2024-08-03T05:29:27.412889Z"
    },
    "papermill": {
     "duration": 0.019184,
     "end_time": "2024-08-03T05:29:27.415577",
     "exception": false,
     "start_time": "2024-08-03T05:29:27.396393",
     "status": "completed"
    },
    "tags": []
   },
   "outputs": [],
   "source": [
    "def process_batch(txt_list,tokenizer,max_len=args.max_seq_length):\n",
    "    source_ls = [source for source,target in txt_list]\n",
    "    target_ls = [target for source,target in txt_list]\n",
    "\n",
    "    source_tokens = tokenizer(source_ls,truncation=True,padding=\"max_length\",max_length=args.max_seq_length)\n",
    "    target_tokens = tokenizer(target_ls,truncation=True,padding=\"max_length\",max_length=args.max_seq_length)\n",
    "\n",
    "    input_ids = []\n",
    "    attention_mask = []\n",
    "    token_type_ids = []\n",
    "\n",
    "    for i in range(len(source_tokens[\"input_ids\"])):\n",
    "        input_ids.append(source_tokens[\"input_ids\"][i])\n",
    "        input_ids.append(target_tokens[\"input_ids\"][i])\n",
    "        attention_mask.append(source_tokens[\"attention_mask\"][i])\n",
    "        attention_mask.append(target_tokens[\"attention_mask\"][i])\n",
    "        token_type_ids.append(source_tokens[\"token_type_ids\"][i])\n",
    "        token_type_ids.append(target_tokens[\"token_type_ids\"][i])\n",
    "\n",
    "    return torch.tensor(input_ids),torch.tensor(attention_mask),torch.tensor(token_type_ids)"
   ]
  },
  {
   "cell_type": "code",
   "execution_count": 13,
   "id": "07ef9e7d",
   "metadata": {
    "execution": {
     "iopub.execute_input": "2024-08-03T05:29:27.433580Z",
     "iopub.status.busy": "2024-08-03T05:29:27.433080Z",
     "iopub.status.idle": "2024-08-03T05:29:27.438048Z",
     "shell.execute_reply": "2024-08-03T05:29:27.437181Z"
    },
    "papermill": {
     "duration": 0.015982,
     "end_time": "2024-08-03T05:29:27.439898",
     "exception": false,
     "start_time": "2024-08-03T05:29:27.423916",
     "status": "completed"
    },
    "tags": []
   },
   "outputs": [],
   "source": [
    "def train_dataloader(train_dataset):\n",
    "    train_sampler = SequentialSampler(train_dataset)\n",
    "    model_collate_fn = functools.partial(\n",
    "                        process_batch,\n",
    "                        tokenizer=tokenizer,\n",
    "                        max_len=args.max_seq_length\n",
    "                        )\n",
    "    train_dataloader = DataLoader(train_dataset,\n",
    "                              batch_size=args.batch_size,\n",
    "                              sampler=train_sampler,\n",
    "                              collate_fn=model_collate_fn)\n",
    "    return train_dataloader"
   ]
  },
  {
   "cell_type": "code",
   "execution_count": 14,
   "id": "a2850991",
   "metadata": {
    "execution": {
     "iopub.execute_input": "2024-08-03T05:29:27.457540Z",
     "iopub.status.busy": "2024-08-03T05:29:27.457273Z",
     "iopub.status.idle": "2024-08-03T05:29:31.358466Z",
     "shell.execute_reply": "2024-08-03T05:29:31.357650Z"
    },
    "papermill": {
     "duration": 3.91265,
     "end_time": "2024-08-03T05:29:31.360853",
     "exception": false,
     "start_time": "2024-08-03T05:29:27.448203",
     "status": "completed"
    },
    "tags": []
   },
   "outputs": [],
   "source": [
    "train_data = wiki1mData(\"/kaggle/input/wiki1m/wiki1m_for_simcse.txt\", full=True)"
   ]
  },
  {
   "cell_type": "code",
   "execution_count": 15,
   "id": "59e36842",
   "metadata": {
    "execution": {
     "iopub.execute_input": "2024-08-03T05:29:31.379802Z",
     "iopub.status.busy": "2024-08-03T05:29:31.379192Z",
     "iopub.status.idle": "2024-08-03T05:29:31.385843Z",
     "shell.execute_reply": "2024-08-03T05:29:31.384973Z"
    },
    "papermill": {
     "duration": 0.017916,
     "end_time": "2024-08-03T05:29:31.387735",
     "exception": false,
     "start_time": "2024-08-03T05:29:31.369819",
     "status": "completed"
    },
    "tags": []
   },
   "outputs": [
    {
     "data": {
      "text/plain": [
       "<__main__.wiki1mData at 0x7f8f0da478b0>"
      ]
     },
     "execution_count": 15,
     "metadata": {},
     "output_type": "execute_result"
    }
   ],
   "source": [
    "train_data"
   ]
  },
  {
   "cell_type": "code",
   "execution_count": 16,
   "id": "042e21a4",
   "metadata": {
    "execution": {
     "iopub.execute_input": "2024-08-03T05:29:31.405736Z",
     "iopub.status.busy": "2024-08-03T05:29:31.405452Z",
     "iopub.status.idle": "2024-08-03T05:29:32.789814Z",
     "shell.execute_reply": "2024-08-03T05:29:32.788407Z"
    },
    "papermill": {
     "duration": 1.396111,
     "end_time": "2024-08-03T05:29:32.792222",
     "exception": false,
     "start_time": "2024-08-03T05:29:31.396111",
     "status": "completed"
    },
    "tags": []
   },
   "outputs": [
    {
     "data": {
      "application/vnd.jupyter.widget-view+json": {
       "model_id": "ed92d07637c94faa81a41cc2969e474e",
       "version_major": 2,
       "version_minor": 0
      },
      "text/plain": [
       "config.json:   0%|          | 0.00/570 [00:00<?, ?B/s]"
      ]
     },
     "metadata": {},
     "output_type": "display_data"
    },
    {
     "data": {
      "application/vnd.jupyter.widget-view+json": {
       "model_id": "3c89f6a5f8ef449ab25b20f2db0e3fbb",
       "version_major": 2,
       "version_minor": 0
      },
      "text/plain": [
       "tokenizer_config.json:   0%|          | 0.00/48.0 [00:00<?, ?B/s]"
      ]
     },
     "metadata": {},
     "output_type": "display_data"
    },
    {
     "data": {
      "application/vnd.jupyter.widget-view+json": {
       "model_id": "71bda90f56104032a4042863ca23c916",
       "version_major": 2,
       "version_minor": 0
      },
      "text/plain": [
       "vocab.txt:   0%|          | 0.00/232k [00:00<?, ?B/s]"
      ]
     },
     "metadata": {},
     "output_type": "display_data"
    },
    {
     "data": {
      "application/vnd.jupyter.widget-view+json": {
       "model_id": "1af25e092eae437787a1dc2624c4654e",
       "version_major": 2,
       "version_minor": 0
      },
      "text/plain": [
       "tokenizer.json:   0%|          | 0.00/466k [00:00<?, ?B/s]"
      ]
     },
     "metadata": {},
     "output_type": "display_data"
    }
   ],
   "source": [
    "# Loading tokenizer and config\n",
    "config = AutoConfig.from_pretrained(args.model_name_or_path)\n",
    "tokenizer = AutoTokenizer.from_pretrained(args.model_name_or_path)"
   ]
  },
  {
   "cell_type": "code",
   "execution_count": 17,
   "id": "5c975815",
   "metadata": {
    "execution": {
     "iopub.execute_input": "2024-08-03T05:29:32.813121Z",
     "iopub.status.busy": "2024-08-03T05:29:32.812330Z",
     "iopub.status.idle": "2024-08-03T05:29:32.816850Z",
     "shell.execute_reply": "2024-08-03T05:29:32.815960Z"
    },
    "papermill": {
     "duration": 0.016978,
     "end_time": "2024-08-03T05:29:32.818709",
     "exception": false,
     "start_time": "2024-08-03T05:29:32.801731",
     "status": "completed"
    },
    "tags": []
   },
   "outputs": [],
   "source": [
    "train_dataloader = train_dataloader(train_data)"
   ]
  },
  {
   "cell_type": "code",
   "execution_count": 18,
   "id": "e1be2753",
   "metadata": {
    "execution": {
     "iopub.execute_input": "2024-08-03T05:29:32.838148Z",
     "iopub.status.busy": "2024-08-03T05:29:32.837857Z",
     "iopub.status.idle": "2024-08-03T05:29:32.843165Z",
     "shell.execute_reply": "2024-08-03T05:29:32.842318Z"
    },
    "papermill": {
     "duration": 0.017304,
     "end_time": "2024-08-03T05:29:32.845230",
     "exception": false,
     "start_time": "2024-08-03T05:29:32.827926",
     "status": "completed"
    },
    "tags": []
   },
   "outputs": [
    {
     "data": {
      "text/plain": [
       "<torch.utils.data.dataloader.DataLoader at 0x7f8e45bb8c70>"
      ]
     },
     "execution_count": 18,
     "metadata": {},
     "output_type": "execute_result"
    }
   ],
   "source": [
    "train_dataloader"
   ]
  },
  {
   "cell_type": "code",
   "execution_count": 19,
   "id": "588269e9",
   "metadata": {
    "execution": {
     "iopub.execute_input": "2024-08-03T05:29:32.865180Z",
     "iopub.status.busy": "2024-08-03T05:29:32.864900Z",
     "iopub.status.idle": "2024-08-03T05:29:32.869200Z",
     "shell.execute_reply": "2024-08-03T05:29:32.868348Z"
    },
    "papermill": {
     "duration": 0.016438,
     "end_time": "2024-08-03T05:29:32.871116",
     "exception": false,
     "start_time": "2024-08-03T05:29:32.854678",
     "status": "completed"
    },
    "tags": []
   },
   "outputs": [],
   "source": [
    "num_train_optimization_steps = int(len(train_data) / args.batch_size / args.gradient_accumulation_steps) * args.num_train_epochs"
   ]
  },
  {
   "cell_type": "code",
   "execution_count": 20,
   "id": "0da7fa50",
   "metadata": {
    "execution": {
     "iopub.execute_input": "2024-08-03T05:29:32.890633Z",
     "iopub.status.busy": "2024-08-03T05:29:32.890354Z",
     "iopub.status.idle": "2024-08-03T05:29:32.895513Z",
     "shell.execute_reply": "2024-08-03T05:29:32.894702Z"
    },
    "papermill": {
     "duration": 0.017408,
     "end_time": "2024-08-03T05:29:32.897627",
     "exception": false,
     "start_time": "2024-08-03T05:29:32.880219",
     "status": "completed"
    },
    "tags": []
   },
   "outputs": [
    {
     "data": {
      "text/plain": [
       "31107"
      ]
     },
     "execution_count": 20,
     "metadata": {},
     "output_type": "execute_result"
    }
   ],
   "source": [
    "num_train_optimization_steps"
   ]
  },
  {
   "cell_type": "code",
   "execution_count": 21,
   "id": "83ae35b8",
   "metadata": {
    "execution": {
     "iopub.execute_input": "2024-08-03T05:29:32.917442Z",
     "iopub.status.busy": "2024-08-03T05:29:32.917144Z",
     "iopub.status.idle": "2024-08-03T05:29:35.150014Z",
     "shell.execute_reply": "2024-08-03T05:29:35.148963Z"
    },
    "papermill": {
     "duration": 2.245328,
     "end_time": "2024-08-03T05:29:35.152322",
     "exception": false,
     "start_time": "2024-08-03T05:29:32.906994",
     "status": "completed"
    },
    "tags": []
   },
   "outputs": [
    {
     "data": {
      "application/vnd.jupyter.widget-view+json": {
       "model_id": "efda151bd3574030ae657d366468907d",
       "version_major": 2,
       "version_minor": 0
      },
      "text/plain": [
       "model.safetensors:   0%|          | 0.00/440M [00:00<?, ?B/s]"
      ]
     },
     "metadata": {},
     "output_type": "display_data"
    },
    {
     "name": "stderr",
     "output_type": "stream",
     "text": [
      "Some weights of BertForCL were not initialized from the model checkpoint at bert-base-uncased and are newly initialized: ['mlp.dense.bias', 'mlp.dense.weight']\n",
      "You should probably TRAIN this model on a down-stream task to be able to use it for predictions and inference.\n"
     ]
    }
   ],
   "source": [
    "model = BertForCL.from_pretrained(args.model_name_or_path,config=config)"
   ]
  },
  {
   "cell_type": "code",
   "execution_count": 22,
   "id": "a077b80b",
   "metadata": {
    "execution": {
     "iopub.execute_input": "2024-08-03T05:29:35.174031Z",
     "iopub.status.busy": "2024-08-03T05:29:35.173406Z",
     "iopub.status.idle": "2024-08-03T05:29:35.515907Z",
     "shell.execute_reply": "2024-08-03T05:29:35.514945Z"
    },
    "papermill": {
     "duration": 0.355526,
     "end_time": "2024-08-03T05:29:35.518065",
     "exception": false,
     "start_time": "2024-08-03T05:29:35.162539",
     "status": "completed"
    },
    "tags": []
   },
   "outputs": [
    {
     "data": {
      "text/plain": [
       "BertForCL(\n",
       "  (bert): BertModel(\n",
       "    (embeddings): BertEmbeddings(\n",
       "      (word_embeddings): Embedding(30522, 768, padding_idx=0)\n",
       "      (position_embeddings): Embedding(512, 768)\n",
       "      (token_type_embeddings): Embedding(2, 768)\n",
       "      (LayerNorm): LayerNorm((768,), eps=1e-12, elementwise_affine=True)\n",
       "      (dropout): Dropout(p=0.1, inplace=False)\n",
       "    )\n",
       "    (encoder): BertEncoder(\n",
       "      (layer): ModuleList(\n",
       "        (0-11): 12 x BertLayer(\n",
       "          (attention): BertAttention(\n",
       "            (self): BertSdpaSelfAttention(\n",
       "              (query): Linear(in_features=768, out_features=768, bias=True)\n",
       "              (key): Linear(in_features=768, out_features=768, bias=True)\n",
       "              (value): Linear(in_features=768, out_features=768, bias=True)\n",
       "              (dropout): Dropout(p=0.1, inplace=False)\n",
       "            )\n",
       "            (output): BertSelfOutput(\n",
       "              (dense): Linear(in_features=768, out_features=768, bias=True)\n",
       "              (LayerNorm): LayerNorm((768,), eps=1e-12, elementwise_affine=True)\n",
       "              (dropout): Dropout(p=0.1, inplace=False)\n",
       "            )\n",
       "          )\n",
       "          (intermediate): BertIntermediate(\n",
       "            (dense): Linear(in_features=768, out_features=3072, bias=True)\n",
       "            (intermediate_act_fn): GELUActivation()\n",
       "          )\n",
       "          (output): BertOutput(\n",
       "            (dense): Linear(in_features=3072, out_features=768, bias=True)\n",
       "            (LayerNorm): LayerNorm((768,), eps=1e-12, elementwise_affine=True)\n",
       "            (dropout): Dropout(p=0.1, inplace=False)\n",
       "          )\n",
       "        )\n",
       "      )\n",
       "    )\n",
       "    (pooler): BertPooler(\n",
       "      (dense): Linear(in_features=768, out_features=768, bias=True)\n",
       "      (activation): Tanh()\n",
       "    )\n",
       "  )\n",
       "  (pooler): Pooler()\n",
       "  (mlp): MLPLayer(\n",
       "    (dense): Linear(in_features=768, out_features=768, bias=True)\n",
       "    (activation): Tanh()\n",
       "  )\n",
       "  (sim): Similarity(\n",
       "    (cos): CosineSimilarity()\n",
       "  )\n",
       ")"
      ]
     },
     "execution_count": 22,
     "metadata": {},
     "output_type": "execute_result"
    }
   ],
   "source": [
    "device = torch.device(\"cuda\" if torch.cuda.is_available() and not args.no_cuda else \"cpu\")\n",
    "model.to(device)"
   ]
  },
  {
   "cell_type": "code",
   "execution_count": 23,
   "id": "fed9ab81",
   "metadata": {
    "execution": {
     "iopub.execute_input": "2024-08-03T05:29:35.539395Z",
     "iopub.status.busy": "2024-08-03T05:29:35.539066Z",
     "iopub.status.idle": "2024-08-03T05:29:36.133761Z",
     "shell.execute_reply": "2024-08-03T05:29:36.132765Z"
    },
    "papermill": {
     "duration": 0.608202,
     "end_time": "2024-08-03T05:29:36.136317",
     "exception": false,
     "start_time": "2024-08-03T05:29:35.528115",
     "status": "completed"
    },
    "tags": []
   },
   "outputs": [],
   "source": [
    "param_optimizer = list(model.named_parameters())\n",
    "no_decay = ['bias','LayerNorm.weight']\n",
    "optimizer_grouped_parameters = [\n",
    "    {'params': [p for n, p in param_optimizer if not any(nd in n for nd in no_decay)], 'weight_decay': args.weight_decay},\n",
    "    {'params': [p for n, p in param_optimizer if any(nd in n for nd in no_decay)], 'weight_decay': 0.0}\n",
    "    ]\n",
    "\n",
    "warmup_steps = int(args.warmup_proportion * num_train_optimization_steps)\n",
    "optimizer = AdamW(optimizer_grouped_parameters,lr=args.learning_rate,eps=args.adam_epsilon)\n",
    "scheduler = get_linear_schedule_with_warmup(\n",
    "        optimizer,\n",
    "        num_warmup_steps=warmup_steps,\n",
    "        num_training_steps=num_train_optimization_steps)"
   ]
  },
  {
   "cell_type": "code",
   "execution_count": 24,
   "id": "93582afa",
   "metadata": {
    "execution": {
     "iopub.execute_input": "2024-08-03T05:29:36.159685Z",
     "iopub.status.busy": "2024-08-03T05:29:36.158739Z",
     "iopub.status.idle": "2024-08-03T07:08:12.790824Z",
     "shell.execute_reply": "2024-08-03T07:08:12.789670Z"
    },
    "papermill": {
     "duration": 5916.645314,
     "end_time": "2024-08-03T07:08:12.793064",
     "exception": false,
     "start_time": "2024-08-03T05:29:36.147750",
     "status": "completed"
    },
    "tags": []
   },
   "outputs": [
    {
     "name": "stderr",
     "output_type": "stream",
     "text": [
      "Iteration:   3%|▎         | 1001/31108 [03:11<1:35:22,  5.26it/s]"
     ]
    },
    {
     "name": "stdout",
     "output_type": "stream",
     "text": [
      "Epoch [1/1], Step [1000/31108], Loss: 0.2067\n"
     ]
    },
    {
     "name": "stderr",
     "output_type": "stream",
     "text": [
      "Iteration:   6%|▋         | 2001/31108 [06:21<1:32:03,  5.27it/s]"
     ]
    },
    {
     "name": "stdout",
     "output_type": "stream",
     "text": [
      "Epoch [1/1], Step [2000/31108], Loss: 0.1182\n"
     ]
    },
    {
     "name": "stderr",
     "output_type": "stream",
     "text": [
      "Iteration:  10%|▉         | 3001/31108 [09:31<1:28:53,  5.27it/s]"
     ]
    },
    {
     "name": "stdout",
     "output_type": "stream",
     "text": [
      "Epoch [1/1], Step [3000/31108], Loss: 0.0872\n"
     ]
    },
    {
     "name": "stderr",
     "output_type": "stream",
     "text": [
      "Iteration:  13%|█▎        | 4001/31108 [12:41<1:25:51,  5.26it/s]"
     ]
    },
    {
     "name": "stdout",
     "output_type": "stream",
     "text": [
      "Epoch [1/1], Step [4000/31108], Loss: 0.0726\n"
     ]
    },
    {
     "name": "stderr",
     "output_type": "stream",
     "text": [
      "Iteration:  16%|█▌        | 5001/31108 [15:51<1:22:37,  5.27it/s]"
     ]
    },
    {
     "name": "stdout",
     "output_type": "stream",
     "text": [
      "Epoch [1/1], Step [5000/31108], Loss: 0.0605\n"
     ]
    },
    {
     "name": "stderr",
     "output_type": "stream",
     "text": [
      "Iteration:  19%|█▉        | 6001/31108 [19:01<1:19:36,  5.26it/s]"
     ]
    },
    {
     "name": "stdout",
     "output_type": "stream",
     "text": [
      "Epoch [1/1], Step [6000/31108], Loss: 0.0562\n"
     ]
    },
    {
     "name": "stderr",
     "output_type": "stream",
     "text": [
      "Iteration:  23%|██▎       | 7001/31108 [22:11<1:16:28,  5.25it/s]"
     ]
    },
    {
     "name": "stdout",
     "output_type": "stream",
     "text": [
      "Epoch [1/1], Step [7000/31108], Loss: 0.0499\n"
     ]
    },
    {
     "name": "stderr",
     "output_type": "stream",
     "text": [
      "Iteration:  26%|██▌       | 8001/31108 [25:22<1:13:14,  5.26it/s]"
     ]
    },
    {
     "name": "stdout",
     "output_type": "stream",
     "text": [
      "Epoch [1/1], Step [8000/31108], Loss: 0.0477\n"
     ]
    },
    {
     "name": "stderr",
     "output_type": "stream",
     "text": [
      "Iteration:  29%|██▉       | 9001/31108 [28:32<1:09:59,  5.26it/s]"
     ]
    },
    {
     "name": "stdout",
     "output_type": "stream",
     "text": [
      "Epoch [1/1], Step [9000/31108], Loss: 0.0445\n"
     ]
    },
    {
     "name": "stderr",
     "output_type": "stream",
     "text": [
      "Iteration:  32%|███▏      | 10001/31108 [31:42<1:06:58,  5.25it/s]"
     ]
    },
    {
     "name": "stdout",
     "output_type": "stream",
     "text": [
      "Epoch [1/1], Step [10000/31108], Loss: 0.0411\n"
     ]
    },
    {
     "name": "stderr",
     "output_type": "stream",
     "text": [
      "Iteration:  35%|███▌      | 11001/31108 [34:52<1:03:41,  5.26it/s]"
     ]
    },
    {
     "name": "stdout",
     "output_type": "stream",
     "text": [
      "Epoch [1/1], Step [11000/31108], Loss: 0.0388\n"
     ]
    },
    {
     "name": "stderr",
     "output_type": "stream",
     "text": [
      "Iteration:  39%|███▊      | 12001/31108 [38:02<1:00:34,  5.26it/s]"
     ]
    },
    {
     "name": "stdout",
     "output_type": "stream",
     "text": [
      "Epoch [1/1], Step [12000/31108], Loss: 0.0370\n"
     ]
    },
    {
     "name": "stderr",
     "output_type": "stream",
     "text": [
      "Iteration:  42%|████▏     | 13001/31108 [41:13<57:19,  5.26it/s]"
     ]
    },
    {
     "name": "stdout",
     "output_type": "stream",
     "text": [
      "Epoch [1/1], Step [13000/31108], Loss: 0.0354\n"
     ]
    },
    {
     "name": "stderr",
     "output_type": "stream",
     "text": [
      "Iteration:  45%|████▌     | 14001/31108 [44:23<54:15,  5.25it/s]"
     ]
    },
    {
     "name": "stdout",
     "output_type": "stream",
     "text": [
      "Epoch [1/1], Step [14000/31108], Loss: 0.0349\n"
     ]
    },
    {
     "name": "stderr",
     "output_type": "stream",
     "text": [
      "Iteration:  48%|████▊     | 15001/31108 [47:33<50:58,  5.27it/s]"
     ]
    },
    {
     "name": "stdout",
     "output_type": "stream",
     "text": [
      "Epoch [1/1], Step [15000/31108], Loss: 0.0335\n"
     ]
    },
    {
     "name": "stderr",
     "output_type": "stream",
     "text": [
      "Iteration:  51%|█████▏    | 16001/31108 [50:43<47:51,  5.26it/s]"
     ]
    },
    {
     "name": "stdout",
     "output_type": "stream",
     "text": [
      "Epoch [1/1], Step [16000/31108], Loss: 0.0320\n"
     ]
    },
    {
     "name": "stderr",
     "output_type": "stream",
     "text": [
      "Iteration:  55%|█████▍    | 17001/31108 [53:53<44:35,  5.27it/s]"
     ]
    },
    {
     "name": "stdout",
     "output_type": "stream",
     "text": [
      "Epoch [1/1], Step [17000/31108], Loss: 0.0307\n"
     ]
    },
    {
     "name": "stderr",
     "output_type": "stream",
     "text": [
      "Iteration:  58%|█████▊    | 18001/31108 [57:03<41:26,  5.27it/s]"
     ]
    },
    {
     "name": "stdout",
     "output_type": "stream",
     "text": [
      "Epoch [1/1], Step [18000/31108], Loss: 0.0293\n"
     ]
    },
    {
     "name": "stderr",
     "output_type": "stream",
     "text": [
      "Iteration:  61%|██████    | 19001/31108 [1:00:13<38:17,  5.27it/s]"
     ]
    },
    {
     "name": "stdout",
     "output_type": "stream",
     "text": [
      "Epoch [1/1], Step [19000/31108], Loss: 0.0279\n"
     ]
    },
    {
     "name": "stderr",
     "output_type": "stream",
     "text": [
      "Iteration:  64%|██████▍   | 20001/31108 [1:03:23<35:12,  5.26it/s]"
     ]
    },
    {
     "name": "stdout",
     "output_type": "stream",
     "text": [
      "Epoch [1/1], Step [20000/31108], Loss: 0.0267\n"
     ]
    },
    {
     "name": "stderr",
     "output_type": "stream",
     "text": [
      "Iteration:  68%|██████▊   | 21001/31108 [1:06:34<32:02,  5.26it/s]"
     ]
    },
    {
     "name": "stdout",
     "output_type": "stream",
     "text": [
      "Epoch [1/1], Step [21000/31108], Loss: 0.0255\n"
     ]
    },
    {
     "name": "stderr",
     "output_type": "stream",
     "text": [
      "Iteration:  71%|███████   | 22001/31108 [1:09:44<28:51,  5.26it/s]"
     ]
    },
    {
     "name": "stdout",
     "output_type": "stream",
     "text": [
      "Epoch [1/1], Step [22000/31108], Loss: 0.0247\n"
     ]
    },
    {
     "name": "stderr",
     "output_type": "stream",
     "text": [
      "Iteration:  74%|███████▍  | 23001/31108 [1:12:54<25:41,  5.26it/s]"
     ]
    },
    {
     "name": "stdout",
     "output_type": "stream",
     "text": [
      "Epoch [1/1], Step [23000/31108], Loss: 0.0238\n"
     ]
    },
    {
     "name": "stderr",
     "output_type": "stream",
     "text": [
      "Iteration:  77%|███████▋  | 24001/31108 [1:16:04<22:33,  5.25it/s]"
     ]
    },
    {
     "name": "stdout",
     "output_type": "stream",
     "text": [
      "Epoch [1/1], Step [24000/31108], Loss: 0.0229\n"
     ]
    },
    {
     "name": "stderr",
     "output_type": "stream",
     "text": [
      "Iteration:  80%|████████  | 25001/31108 [1:19:15<19:20,  5.26it/s]"
     ]
    },
    {
     "name": "stdout",
     "output_type": "stream",
     "text": [
      "Epoch [1/1], Step [25000/31108], Loss: 0.0223\n"
     ]
    },
    {
     "name": "stderr",
     "output_type": "stream",
     "text": [
      "Iteration:  84%|████████▎ | 26001/31108 [1:22:25<16:09,  5.27it/s]"
     ]
    },
    {
     "name": "stdout",
     "output_type": "stream",
     "text": [
      "Epoch [1/1], Step [26000/31108], Loss: 0.0217\n"
     ]
    },
    {
     "name": "stderr",
     "output_type": "stream",
     "text": [
      "Iteration:  87%|████████▋ | 27001/31108 [1:25:35<13:01,  5.25it/s]"
     ]
    },
    {
     "name": "stdout",
     "output_type": "stream",
     "text": [
      "Epoch [1/1], Step [27000/31108], Loss: 0.0209\n"
     ]
    },
    {
     "name": "stderr",
     "output_type": "stream",
     "text": [
      "Iteration:  90%|█████████ | 28001/31108 [1:28:45<09:50,  5.26it/s]"
     ]
    },
    {
     "name": "stdout",
     "output_type": "stream",
     "text": [
      "Epoch [1/1], Step [28000/31108], Loss: 0.0203\n"
     ]
    },
    {
     "name": "stderr",
     "output_type": "stream",
     "text": [
      "Iteration:  93%|█████████▎| 29001/31108 [1:31:55<06:40,  5.27it/s]"
     ]
    },
    {
     "name": "stdout",
     "output_type": "stream",
     "text": [
      "Epoch [1/1], Step [29000/31108], Loss: 0.0197\n"
     ]
    },
    {
     "name": "stderr",
     "output_type": "stream",
     "text": [
      "Iteration:  96%|█████████▋| 30001/31108 [1:35:06<03:30,  5.26it/s]"
     ]
    },
    {
     "name": "stdout",
     "output_type": "stream",
     "text": [
      "Epoch [1/1], Step [30000/31108], Loss: 0.0192\n"
     ]
    },
    {
     "name": "stderr",
     "output_type": "stream",
     "text": [
      "Iteration: 100%|█████████▉| 31001/31108 [1:38:16<00:20,  5.26it/s]"
     ]
    },
    {
     "name": "stdout",
     "output_type": "stream",
     "text": [
      "Epoch [1/1], Step [31000/31108], Loss: 0.0186\n"
     ]
    },
    {
     "name": "stderr",
     "output_type": "stream",
     "text": [
      "Iteration: 100%|██████████| 31108/31108 [1:38:36<00:00,  5.26it/s]\n"
     ]
    }
   ],
   "source": [
    "for epoch in range(args.num_train_epochs):\n",
    "  model.train()\n",
    "  running_loss = 0.0\n",
    "  for step, batch in enumerate(tqdm(train_dataloader, desc=\"Iteration\")):\n",
    "  #for input_ids,attention_mask,token_type_ids in train_dataloader:\n",
    "    batch = tuple(t.to(device) for t in batch)\n",
    "    input_ids,attention_mask,token_type_ids = batch\n",
    "    #import ipdb; ipdb.set_trace();\n",
    "    # zero the parameter gradients\n",
    "    optimizer.zero_grad()\n",
    "    outputs = model(input_ids,attention_mask,token_type_ids)\n",
    "    loss = outputs[\"loss\"]\n",
    "\n",
    "    if args.gradient_accumulation_steps > 1:\n",
    "      loss = loss / args.gradient_accumulation_steps\n",
    "    loss.backward()\n",
    "    running_loss += loss.item()\n",
    "    if (step + 1) % args.gradient_accumulation_steps == 0:\n",
    "      optimizer.step()\n",
    "      scheduler.step()  # Update learning rate schedule\n",
    "      model.zero_grad()\n",
    "    if (step + 1) % 1000 == 0:  # Change the frequency as needed\n",
    "            print(f\"Epoch [{epoch + 1}/{args.num_train_epochs}], Step [{step + 1}/{len(train_dataloader)}], Loss: {running_loss / (step + 1):.4f}\")\n",
    "            \n",
    "            "
   ]
  },
  {
   "cell_type": "code",
   "execution_count": 25,
   "id": "87180299",
   "metadata": {
    "execution": {
     "iopub.execute_input": "2024-08-03T07:08:17.902835Z",
     "iopub.status.busy": "2024-08-03T07:08:17.901874Z",
     "iopub.status.idle": "2024-08-03T07:08:18.875003Z",
     "shell.execute_reply": "2024-08-03T07:08:18.874065Z"
    },
    "papermill": {
     "duration": 3.611981,
     "end_time": "2024-08-03T07:08:18.877209",
     "exception": false,
     "start_time": "2024-08-03T07:08:15.265228",
     "status": "completed"
    },
    "tags": []
   },
   "outputs": [
    {
     "data": {
      "text/plain": [
       "('/kaggle/working/model_outputs/tokenizer_config.json',\n",
       " '/kaggle/working/model_outputs/special_tokens_map.json',\n",
       " '/kaggle/working/model_outputs/vocab.txt',\n",
       " '/kaggle/working/model_outputs/added_tokens.json',\n",
       " '/kaggle/working/model_outputs/tokenizer.json')"
      ]
     },
     "execution_count": 25,
     "metadata": {},
     "output_type": "execute_result"
    }
   ],
   "source": [
    "if not os.path.exists(args.output_dir):\n",
    "    os.makedirs(args.output_dir)\n",
    "model.save_pretrained(args.output_dir)\n",
    "tokenizer.save_pretrained(args.output_dir)"
   ]
  },
  {
   "cell_type": "code",
   "execution_count": 26,
   "id": "a586148b",
   "metadata": {
    "execution": {
     "iopub.execute_input": "2024-08-03T07:08:23.819094Z",
     "iopub.status.busy": "2024-08-03T07:08:23.818705Z",
     "iopub.status.idle": "2024-08-03T07:08:23.832150Z",
     "shell.execute_reply": "2024-08-03T07:08:23.831301Z"
    },
    "papermill": {
     "duration": 2.530236,
     "end_time": "2024-08-03T07:08:23.833994",
     "exception": false,
     "start_time": "2024-08-03T07:08:21.303758",
     "status": "completed"
    },
    "tags": []
   },
   "outputs": [
    {
     "data": {
      "text/plain": [
       "BertForCL(\n",
       "  (bert): BertModel(\n",
       "    (embeddings): BertEmbeddings(\n",
       "      (word_embeddings): Embedding(30522, 768, padding_idx=0)\n",
       "      (position_embeddings): Embedding(512, 768)\n",
       "      (token_type_embeddings): Embedding(2, 768)\n",
       "      (LayerNorm): LayerNorm((768,), eps=1e-12, elementwise_affine=True)\n",
       "      (dropout): Dropout(p=0.1, inplace=False)\n",
       "    )\n",
       "    (encoder): BertEncoder(\n",
       "      (layer): ModuleList(\n",
       "        (0-11): 12 x BertLayer(\n",
       "          (attention): BertAttention(\n",
       "            (self): BertSdpaSelfAttention(\n",
       "              (query): Linear(in_features=768, out_features=768, bias=True)\n",
       "              (key): Linear(in_features=768, out_features=768, bias=True)\n",
       "              (value): Linear(in_features=768, out_features=768, bias=True)\n",
       "              (dropout): Dropout(p=0.1, inplace=False)\n",
       "            )\n",
       "            (output): BertSelfOutput(\n",
       "              (dense): Linear(in_features=768, out_features=768, bias=True)\n",
       "              (LayerNorm): LayerNorm((768,), eps=1e-12, elementwise_affine=True)\n",
       "              (dropout): Dropout(p=0.1, inplace=False)\n",
       "            )\n",
       "          )\n",
       "          (intermediate): BertIntermediate(\n",
       "            (dense): Linear(in_features=768, out_features=3072, bias=True)\n",
       "            (intermediate_act_fn): GELUActivation()\n",
       "          )\n",
       "          (output): BertOutput(\n",
       "            (dense): Linear(in_features=3072, out_features=768, bias=True)\n",
       "            (LayerNorm): LayerNorm((768,), eps=1e-12, elementwise_affine=True)\n",
       "            (dropout): Dropout(p=0.1, inplace=False)\n",
       "          )\n",
       "        )\n",
       "      )\n",
       "    )\n",
       "    (pooler): BertPooler(\n",
       "      (dense): Linear(in_features=768, out_features=768, bias=True)\n",
       "      (activation): Tanh()\n",
       "    )\n",
       "  )\n",
       "  (pooler): Pooler()\n",
       "  (mlp): MLPLayer(\n",
       "    (dense): Linear(in_features=768, out_features=768, bias=True)\n",
       "    (activation): Tanh()\n",
       "  )\n",
       "  (sim): Similarity(\n",
       "    (cos): CosineSimilarity()\n",
       "  )\n",
       ")"
      ]
     },
     "execution_count": 26,
     "metadata": {},
     "output_type": "execute_result"
    }
   ],
   "source": [
    "# Đặt mô hình vào chế độ đánh giá\n",
    "model.eval()\n",
    "device = torch.device(\"cuda\" if torch.cuda.is_available() else \"cpu\")\n",
    "model.to(device)"
   ]
  },
  {
   "cell_type": "code",
   "execution_count": 27,
   "id": "df154d22",
   "metadata": {
    "execution": {
     "iopub.execute_input": "2024-08-03T07:08:28.872830Z",
     "iopub.status.busy": "2024-08-03T07:08:28.872428Z",
     "iopub.status.idle": "2024-08-03T07:08:28.878477Z",
     "shell.execute_reply": "2024-08-03T07:08:28.877593Z"
    },
    "papermill": {
     "duration": 2.432062,
     "end_time": "2024-08-03T07:08:28.880399",
     "exception": false,
     "start_time": "2024-08-03T07:08:26.448337",
     "status": "completed"
    },
    "tags": []
   },
   "outputs": [],
   "source": [
    "def get_sentence_embedding(sentence, model, tokenizer, device):\n",
    "    # Tokenize sentence\n",
    "    inputs = tokenizer(sentence, return_tensors='pt', truncation=True, padding='max_length', max_length=args.max_seq_length)\n",
    "    inputs = {key: value.to(device) for key, value in inputs.items()}\n",
    "\n",
    "    # Get embedding\n",
    "    with torch.no_grad():\n",
    "        outputs = model(sent_emb=True, **inputs)\n",
    "        sentence_embedding = outputs.pooler_output\n",
    "\n",
    "    return sentence_embedding"
   ]
  },
  {
   "cell_type": "code",
   "execution_count": 28,
   "id": "e1db80c7",
   "metadata": {
    "execution": {
     "iopub.execute_input": "2024-08-03T07:08:34.007574Z",
     "iopub.status.busy": "2024-08-03T07:08:34.006600Z",
     "iopub.status.idle": "2024-08-03T07:08:34.156172Z",
     "shell.execute_reply": "2024-08-03T07:08:34.155229Z"
    },
    "papermill": {
     "duration": 2.757858,
     "end_time": "2024-08-03T07:08:34.158434",
     "exception": false,
     "start_time": "2024-08-03T07:08:31.400576",
     "status": "completed"
    },
    "tags": []
   },
   "outputs": [
    {
     "name": "stdout",
     "output_type": "stream",
     "text": [
      "tensor([[-2.0885e-01, -8.1746e-02, -4.7719e-01, -1.9839e-01,  9.6258e-02,\n",
      "         -1.6265e-01, -5.9050e-01,  1.4705e-01, -1.4234e-01,  1.2036e-01,\n",
      "         -3.2306e-02,  2.5323e-01, -2.5249e-01,  2.8687e-01, -2.0828e-01,\n",
      "          1.2084e-01, -3.6191e-01,  2.1067e-01,  3.9963e-03,  2.8630e-01,\n",
      "          1.4539e-01, -1.8763e-01, -1.0709e-01, -8.1587e-03,  1.8506e-03,\n",
      "          1.0824e-01, -2.5082e-02, -4.5106e-01,  1.6739e-01, -9.3042e-02,\n",
      "          1.4792e-01,  2.5533e-01,  1.8882e-02,  6.1786e-01, -4.7192e-01,\n",
      "         -1.0533e-01,  2.1480e-01,  1.8915e-01, -4.2078e-01,  1.7893e-01,\n",
      "         -3.9554e-01,  9.7841e-02, -3.3106e-02, -8.3382e-02,  3.4222e-01,\n",
      "         -1.4916e-01,  4.1210e-01, -1.5587e-01,  3.4349e-01,  1.8986e-01,\n",
      "         -1.3811e-01,  5.6191e-02, -1.8167e-01,  2.6947e-01, -1.8516e-01,\n",
      "          2.1178e-01,  5.1079e-01,  1.8339e-01,  8.0980e-02,  2.2657e-01,\n",
      "         -7.0998e-02, -7.4644e-03,  1.6776e-01, -1.7474e-01,  2.5915e-01,\n",
      "          7.4296e-02, -1.3381e-01, -3.7852e-01, -3.8390e-02, -3.1226e-01,\n",
      "          2.6534e-01,  3.6655e-01, -1.8073e-01,  2.6850e-01, -4.5131e-01,\n",
      "          1.0569e-01,  1.2324e-01, -3.2681e-01, -1.4689e-01, -4.6860e-02,\n",
      "          2.5227e-01, -2.2784e-01,  2.6606e-01, -1.3109e-01,  6.8490e-02,\n",
      "         -2.6470e-01,  2.6643e-01,  1.2626e-01, -1.8185e-01,  1.1309e-01,\n",
      "         -5.0719e-01,  1.6164e-01,  1.6766e-01,  1.3637e-01, -3.8768e-01,\n",
      "          2.8760e-01,  3.0000e-01,  1.4138e-01,  2.3029e-01,  3.7984e-01,\n",
      "          8.1669e-02,  4.1704e-01,  9.9074e-02,  2.8898e-02,  2.4850e-01,\n",
      "         -2.9420e-01, -4.4326e-04,  5.8028e-02, -2.2572e-01, -1.7340e-01,\n",
      "          4.7076e-02, -1.4136e-01, -2.6622e-01, -4.5274e-01,  2.7226e-01,\n",
      "          3.7715e-01, -1.9282e-01,  3.4162e-01,  2.2878e-01,  2.3262e-01,\n",
      "         -1.4070e-01, -3.1238e-01,  2.2059e-02,  2.7780e-01,  2.2613e-01,\n",
      "          2.7280e-01,  8.5388e-02, -2.6020e-01,  2.6261e-01, -1.1841e-02,\n",
      "         -6.4756e-02,  3.4981e-01, -5.3563e-04, -2.7520e-01, -1.1250e-01,\n",
      "          3.5239e-02,  1.4262e-01,  3.9151e-01,  2.1745e-01, -2.9518e-01,\n",
      "          1.6306e-01, -1.7478e-01,  1.4153e-01,  5.2817e-02, -1.6296e-01,\n",
      "          1.8695e-01,  9.6485e-02,  2.8398e-01,  2.3024e-01,  4.2604e-02,\n",
      "         -8.7440e-03,  2.3272e-01,  1.6205e-01, -1.4537e-01,  3.1514e-01,\n",
      "          4.7740e-01,  1.8247e-01, -6.2552e-02, -1.6476e-02, -4.6538e-03,\n",
      "          2.1529e-01,  3.0011e-01,  3.5628e-01,  2.9592e-01, -5.6716e-02,\n",
      "          1.0987e-01,  2.1470e-01, -8.6639e-02,  4.0062e-01, -8.2205e-03,\n",
      "         -7.8317e-02, -1.4803e-01, -3.1875e-01,  2.6394e-01, -1.6834e-01,\n",
      "         -3.8987e-01, -5.2561e-02, -1.3022e-01, -2.4200e-01,  4.0464e-01,\n",
      "          9.1983e-03, -2.8397e-01, -7.2292e-02, -2.9481e-01,  1.7804e-01,\n",
      "         -6.7056e-02,  1.0248e-01, -1.6332e-01, -1.9814e-01,  2.4107e-01,\n",
      "          5.2963e-01,  1.2885e-01,  1.2183e-01,  3.7446e-02, -1.9115e-01,\n",
      "         -2.2727e-01,  1.6826e-01, -1.5288e-01, -4.9780e-01,  4.2812e-01,\n",
      "         -1.8451e-01, -2.9144e-02,  1.2087e-01, -1.3353e-01,  2.1002e-01,\n",
      "          4.1791e-01,  2.4017e-01,  1.4670e-01,  7.4266e-02, -6.0455e-01,\n",
      "          3.7141e-02,  1.0462e-01, -3.4277e-01,  7.7867e-02, -1.2878e-01,\n",
      "         -3.3198e-01,  1.9537e-02, -1.2919e-01, -1.7001e-01, -8.7858e-02,\n",
      "         -2.1472e-01,  4.3299e-02,  1.9172e-01,  2.2051e-01,  1.5946e-01,\n",
      "         -1.8470e-01, -3.2459e-02,  2.6413e-01,  3.5471e-01, -6.8478e-02,\n",
      "         -6.5716e-02,  1.0742e-01, -4.0076e-01,  3.5200e-01,  7.1341e-02,\n",
      "         -2.0654e-01, -3.8795e-01, -2.6078e-01, -1.5708e-01,  2.9031e-01,\n",
      "          2.1440e-02,  2.6010e-01,  2.7151e-01, -1.6379e-01,  1.4820e-01,\n",
      "         -1.6245e-03, -2.2603e-01,  2.6684e-01, -1.3657e-01, -4.1647e-03,\n",
      "          5.1169e-02, -1.3298e-03, -1.8772e-01, -1.1719e-01, -3.2915e-01,\n",
      "         -1.2615e-01, -3.3907e-01,  2.1660e-01,  1.2730e-01, -1.6317e-01,\n",
      "         -5.7600e-03,  3.6161e-01, -1.0337e-01,  9.8231e-02, -2.6147e-01,\n",
      "         -8.8819e-02,  1.1380e-01,  2.1395e-01,  3.2020e-01, -2.9769e-01,\n",
      "         -1.4474e-01,  4.3167e-01, -1.5443e-01, -1.8186e-01, -1.2880e-01,\n",
      "         -2.3679e-01, -4.2580e-01,  1.9832e-01, -1.7707e-01,  6.0681e-01,\n",
      "         -1.9414e-01,  4.5233e-01, -3.8959e-01, -2.0712e-02,  5.4393e-01,\n",
      "         -3.5322e-01, -6.0994e-01,  8.4050e-02,  7.3271e-02, -3.3319e-01,\n",
      "          1.5185e-01,  3.9682e-01, -5.4012e-02, -9.9947e-02, -1.4336e-01,\n",
      "          3.8961e-01,  4.0315e-01, -1.1016e-01,  4.3182e-01, -1.2096e-01,\n",
      "          1.8777e-01, -1.6038e-01,  2.9325e-02, -9.2807e-02,  1.1883e-02,\n",
      "         -5.1896e-01,  2.5277e-02,  4.8592e-02,  1.3100e-01,  4.0197e-01,\n",
      "         -2.2384e-02,  3.5155e-01, -1.4594e-02,  1.9476e-01,  1.0434e-01,\n",
      "          2.1966e-01, -3.0482e-01,  1.7353e-01, -6.1573e-02,  7.3422e-02,\n",
      "          2.9670e-01, -4.6250e-02, -2.0900e-01,  6.0037e-02, -4.6071e-01,\n",
      "          1.1460e-01,  2.0562e-02, -2.1352e-01,  2.6146e-01, -1.9774e-01,\n",
      "          9.4911e-02,  2.8023e-01, -1.8974e-02, -1.6051e-01,  3.4082e-01,\n",
      "          5.8240e-02, -7.2561e-02,  3.7373e-01, -4.2472e-01,  2.2981e-01,\n",
      "         -2.7681e-01, -1.0129e-01,  1.0495e-01, -2.8451e-01, -3.1648e-02,\n",
      "         -2.2693e-01,  1.4830e-01, -3.2523e-01,  6.6218e-02, -1.6488e-01,\n",
      "          2.5913e-01, -2.4454e-01,  2.3789e-01,  1.1318e-01, -2.6305e-01,\n",
      "          8.7825e-02, -1.1931e-01, -7.7019e-02, -4.0040e-01, -7.5717e-02,\n",
      "         -2.4278e-01,  1.7847e-01, -1.5142e-01,  4.9565e-01,  4.6994e-02,\n",
      "         -1.5028e-02,  1.0655e-01,  2.4717e-01,  1.7729e-02,  2.2744e-01,\n",
      "         -2.8249e-01, -3.4629e-01, -5.2530e-02, -3.3486e-01,  1.0819e-01,\n",
      "          7.0260e-02, -4.8090e-01, -5.1003e-01,  5.3472e-02,  1.3894e-03,\n",
      "          2.7992e-01, -1.1536e-01,  2.3982e-01, -1.5242e-01,  2.9646e-01,\n",
      "         -4.9194e-01,  1.4613e-01, -4.4329e-01, -2.3906e-01, -3.4944e-01,\n",
      "          4.3907e-01,  2.5531e-01,  2.1728e-01,  7.1923e-02,  3.9881e-01,\n",
      "         -2.8670e-02, -1.6878e-01,  1.5398e-01, -2.3189e-01,  1.8394e-01,\n",
      "          1.5891e-01,  2.5970e-01,  4.6085e-01, -3.2895e-02, -3.0507e-01,\n",
      "         -3.8762e-01, -3.8433e-01, -2.0359e-02, -2.4640e-02, -1.0275e-01,\n",
      "          2.9426e-01,  1.8772e-01, -4.2116e-01, -1.5219e-01, -9.5756e-02,\n",
      "          8.2471e-02, -8.1804e-02,  5.3813e-03, -4.7650e-02, -2.4242e-01,\n",
      "         -7.4497e-02,  2.8668e-01,  5.2093e-02,  4.1006e-02,  6.0893e-02,\n",
      "         -4.5284e-01,  1.2882e-02, -2.5012e-02, -3.0668e-01, -1.4726e-01,\n",
      "          1.1353e-01, -2.8378e-01, -5.3642e-03,  1.4370e-03,  1.3326e-01,\n",
      "         -3.6621e-01,  2.2432e-01,  2.5561e-02, -6.3851e-02,  1.4128e-01,\n",
      "         -3.0104e-01, -1.8457e-01,  8.7992e-02,  1.4913e-01, -1.1265e-01,\n",
      "         -1.7315e-01, -3.6394e-01, -4.8357e-02, -3.7761e-01, -1.8348e-02,\n",
      "          3.2617e-02, -1.8677e-01,  8.1038e-02, -7.8233e-02,  8.5483e-02,\n",
      "         -5.4014e-02,  2.3619e-01, -4.4464e-01,  2.5467e-01,  3.3349e-01,\n",
      "          5.2662e-02, -4.8031e-02, -1.8951e-01,  1.8159e-02, -2.0390e-01,\n",
      "          2.3774e-01,  1.7301e-01,  6.3358e-03,  4.5026e-01,  1.5631e-01,\n",
      "         -1.3162e-02,  1.2581e-01, -1.9576e-01,  1.0684e-01, -1.9273e-01,\n",
      "         -1.2511e-01,  8.5680e-02,  1.2464e-01, -2.0909e-01,  4.2297e-01,\n",
      "         -3.3652e-02, -3.9356e-01, -3.5666e-02, -5.1795e-01,  3.8950e-01,\n",
      "          1.9014e-02,  2.0705e-01, -4.0526e-01,  5.2022e-01, -3.2062e-01,\n",
      "         -1.6056e-01, -4.8088e-01, -3.2863e-01,  2.7360e-01, -2.2810e-01,\n",
      "         -3.8328e-02, -1.2644e-01, -1.4395e-01,  6.0616e-02,  3.1382e-01,\n",
      "          2.6115e-01,  2.6876e-01, -1.7550e-02,  2.2291e-01, -9.2814e-02,\n",
      "          6.1015e-01,  1.2085e-02,  1.7485e-01, -2.5982e-01,  3.2643e-01,\n",
      "          2.0196e-02, -2.3103e-01,  5.5493e-02,  1.7427e-01, -2.3349e-01,\n",
      "         -5.3238e-01, -1.4276e-02,  3.6299e-01, -2.2606e-01, -2.5215e-01,\n",
      "          4.0740e-01,  2.5091e-02, -2.7129e-01, -2.3199e-01,  3.5345e-02,\n",
      "          2.4688e-01,  2.0998e-01,  8.3839e-02, -1.5955e-01,  8.8607e-02,\n",
      "         -1.0323e-01,  3.6888e-01, -1.0078e-01,  5.8231e-02,  3.9387e-01,\n",
      "          1.7968e-01, -1.9671e-01, -1.3133e-01, -1.1770e-01,  2.0501e-01,\n",
      "         -1.9628e-01, -6.2504e-02, -4.6482e-01, -1.5833e-01,  3.7667e-01,\n",
      "         -8.0273e-02, -8.5722e-02,  9.2324e-02,  8.7361e-03,  3.2718e-01,\n",
      "          1.6001e-01, -9.2704e-02,  5.7252e-02, -8.8725e-03,  1.2806e-01,\n",
      "         -2.2539e-01,  6.6635e-02, -2.9865e-01,  2.6926e-02,  2.3250e-01,\n",
      "         -1.5859e-01, -2.7795e-01,  3.0911e-01,  2.2717e-01,  6.3649e-03,\n",
      "         -1.7657e-02, -6.8956e-02, -2.4227e-01, -4.5909e-01,  1.5030e-01,\n",
      "         -1.2306e-01,  1.0731e-01,  1.3818e-01,  7.5396e-02, -5.3953e-01,\n",
      "          1.4726e-01,  7.6928e-03, -1.7432e-02, -2.9572e-01,  5.1741e-02,\n",
      "         -2.8687e-01, -4.3391e-02,  1.9219e-01,  2.2598e-01,  5.2426e-02,\n",
      "          4.8216e-01, -4.3776e-01, -1.9132e-02, -4.2874e-01, -2.2881e-01,\n",
      "         -1.4251e-02,  1.5574e-01, -6.5067e-02, -3.9096e-01,  6.5525e-02,\n",
      "         -2.1761e-01,  6.0958e-01,  2.4885e-01,  8.1868e-02, -8.9159e-02,\n",
      "         -1.2362e-01,  8.5584e-02,  2.0899e-01, -9.1323e-02,  2.2463e-02,\n",
      "         -2.5135e-01,  1.9840e-01,  7.9166e-02, -2.2888e-01,  1.8762e-01,\n",
      "         -8.6446e-02,  5.1118e-01,  6.6239e-01, -5.7551e-02,  1.5259e-01,\n",
      "         -1.9912e-02, -5.0200e-02, -3.4479e-01, -2.7732e-01, -4.1341e-01,\n",
      "         -1.0764e-01, -4.1162e-01,  2.5361e-01, -9.8648e-02,  2.4384e-02,\n",
      "          1.4858e-01, -4.3629e-01, -1.2853e-01, -5.0833e-02, -6.2098e-01,\n",
      "          8.1366e-02, -7.6693e-02,  8.0339e-02, -5.4062e-01, -4.5313e-02,\n",
      "          7.4744e-03, -1.0588e-01, -2.2594e-01, -4.1102e-02, -4.5585e-02,\n",
      "         -1.5827e-01, -2.8605e-01, -1.9212e-01, -8.2965e-02,  5.8741e-01,\n",
      "          1.8127e-01,  5.2711e-03, -1.4778e-01, -2.1649e-01,  1.0127e-01,\n",
      "          2.2055e-01,  2.1869e-01, -2.8979e-01,  4.9034e-02, -3.4912e-01,\n",
      "          1.9897e-01,  8.0291e-02,  2.1433e-01, -9.4933e-02,  3.8263e-01,\n",
      "         -1.6475e-02, -1.9239e-02,  2.7584e-01,  5.6987e-01, -1.2536e-01,\n",
      "         -3.6371e-01, -2.6108e-01, -1.7344e-01,  1.7284e-01,  2.6165e-01,\n",
      "          1.4049e-01, -4.6138e-02,  3.7888e-01, -9.3900e-02, -1.5210e-01,\n",
      "          5.0254e-02, -3.4636e-01,  2.1411e-01, -3.5870e-01,  9.2476e-02,\n",
      "          1.0185e-01, -1.0385e-01,  6.2180e-01,  1.5054e-01, -3.1661e-01,\n",
      "         -1.6592e-01, -2.7775e-01, -1.7009e-02, -2.9244e-01, -2.4499e-02,\n",
      "         -4.6843e-01, -2.7396e-01, -2.7706e-01,  5.1433e-02,  6.3683e-02,\n",
      "         -1.2413e-01,  3.7518e-01, -1.2606e-01, -6.1664e-02,  4.5085e-01,\n",
      "         -1.2279e-01, -2.0001e-03, -1.2139e-01, -3.0673e-01,  2.0915e-01,\n",
      "         -1.9501e-01, -2.6752e-01,  3.5787e-01,  2.2984e-01, -9.5511e-02,\n",
      "         -1.1617e-01, -1.2557e-01,  7.7068e-02, -7.3476e-02,  2.7967e-01,\n",
      "          7.6188e-02,  1.2944e-01,  2.0937e-01,  1.4371e-01, -2.4138e-01,\n",
      "         -1.1353e-01,  9.0783e-02,  1.4199e-01, -5.7127e-02,  2.1631e-01,\n",
      "         -3.4696e-02, -1.7119e-01,  2.6642e-01, -1.7798e-01, -2.1792e-01,\n",
      "         -3.3304e-01,  9.6622e-03, -5.1187e-02, -1.5089e-01, -4.3143e-01,\n",
      "          1.7703e-01, -3.1839e-01, -4.1251e-03,  1.0423e-01,  2.5355e-01,\n",
      "          3.2907e-01,  3.7898e-01,  2.8262e-01, -2.7097e-01, -2.7821e-01,\n",
      "         -1.9160e-01,  1.9501e-01,  6.2265e-02,  8.4043e-02,  6.2432e-02,\n",
      "         -2.5856e-01,  3.5929e-01, -1.8533e-01, -3.5888e-01,  1.6852e-01,\n",
      "          1.3063e-01,  2.5663e-02, -1.3994e-01, -1.6751e-01, -2.1943e-01,\n",
      "          1.0266e-01,  4.0082e-01, -2.4692e-02,  1.5632e-01,  1.7112e-01,\n",
      "          1.1646e-01,  2.1688e-01,  2.6920e-01]], device='cuda:0')\n"
     ]
    }
   ],
   "source": [
    "# Example usage of get_sentence_embedding\n",
    "sentence = \"This is a test sentence.\"\n",
    "embedding = get_sentence_embedding(sentence, model, tokenizer, device)\n",
    "print(embedding)"
   ]
  },
  {
   "cell_type": "code",
   "execution_count": 29,
   "id": "e9a32e33",
   "metadata": {
    "execution": {
     "iopub.execute_input": "2024-08-03T07:08:39.177590Z",
     "iopub.status.busy": "2024-08-03T07:08:39.177222Z",
     "iopub.status.idle": "2024-08-03T07:08:39.202584Z",
     "shell.execute_reply": "2024-08-03T07:08:39.201527Z"
    },
    "papermill": {
     "duration": 2.58677,
     "end_time": "2024-08-03T07:08:39.204497",
     "exception": false,
     "start_time": "2024-08-03T07:08:36.617727",
     "status": "completed"
    },
    "tags": []
   },
   "outputs": [
    {
     "name": "stdout",
     "output_type": "stream",
     "text": [
      "Similarity: 0.5812699794769287\n"
     ]
    }
   ],
   "source": [
    "from torch.nn.functional import cosine_similarity\n",
    "\n",
    "# Các câu cần tính toán độ tương đồng\n",
    "sentence1 = \"I love chocolates\"\n",
    "sentence2 = \"chocolates are my favourite items.\"\n",
    "\n",
    "# Lấy embedding của các câu\n",
    "embedding1 = get_sentence_embedding(sentence1, model, tokenizer, device)\n",
    "embedding2 = get_sentence_embedding(sentence2, model, tokenizer, device)\n",
    "\n",
    "# Tính toán độ tương đồng cosin\n",
    "similarity = cosine_similarity(embedding1, embedding2)\n",
    "print(f\"Similarity: {similarity.item()}\")"
   ]
  }
 ],
 "metadata": {
  "kaggle": {
   "accelerator": "gpu",
   "dataSources": [
    {
     "datasetId": 5480077,
     "sourceId": 9082855,
     "sourceType": "datasetVersion"
    }
   ],
   "dockerImageVersionId": 30747,
   "isGpuEnabled": true,
   "isInternetEnabled": true,
   "language": "python",
   "sourceType": "notebook"
  },
  "kernelspec": {
   "display_name": "Python 3",
   "language": "python",
   "name": "python3"
  },
  "language_info": {
   "codemirror_mode": {
    "name": "ipython",
    "version": 3
   },
   "file_extension": ".py",
   "mimetype": "text/x-python",
   "name": "python",
   "nbconvert_exporter": "python",
   "pygments_lexer": "ipython3",
   "version": "3.10.13"
  },
  "papermill": {
   "default_parameters": {},
   "duration": 5965.902293,
   "end_time": "2024-08-03T07:08:43.359899",
   "environment_variables": {},
   "exception": null,
   "input_path": "__notebook__.ipynb",
   "output_path": "__notebook__.ipynb",
   "parameters": {},
   "start_time": "2024-08-03T05:29:17.457606",
   "version": "2.5.0"
  },
  "widgets": {
   "application/vnd.jupyter.widget-state+json": {
    "state": {
     "03b8d6a67b434f01a941523e28f4b845": {
      "model_module": "@jupyter-widgets/base",
      "model_module_version": "1.2.0",
      "model_name": "LayoutModel",
      "state": {
       "_model_module": "@jupyter-widgets/base",
       "_model_module_version": "1.2.0",
       "_model_name": "LayoutModel",
       "_view_count": null,
       "_view_module": "@jupyter-widgets/base",
       "_view_module_version": "1.2.0",
       "_view_name": "LayoutView",
       "align_content": null,
       "align_items": null,
       "align_self": null,
       "border": null,
       "bottom": null,
       "display": null,
       "flex": null,
       "flex_flow": null,
       "grid_area": null,
       "grid_auto_columns": null,
       "grid_auto_flow": null,
       "grid_auto_rows": null,
       "grid_column": null,
       "grid_gap": null,
       "grid_row": null,
       "grid_template_areas": null,
       "grid_template_columns": null,
       "grid_template_rows": null,
       "height": null,
       "justify_content": null,
       "justify_items": null,
       "left": null,
       "margin": null,
       "max_height": null,
       "max_width": null,
       "min_height": null,
       "min_width": null,
       "object_fit": null,
       "object_position": null,
       "order": null,
       "overflow": null,
       "overflow_x": null,
       "overflow_y": null,
       "padding": null,
       "right": null,
       "top": null,
       "visibility": null,
       "width": null
      }
     },
     "03ee98d7a6134987b582a59bdd16d0d6": {
      "model_module": "@jupyter-widgets/controls",
      "model_module_version": "1.5.0",
      "model_name": "ProgressStyleModel",
      "state": {
       "_model_module": "@jupyter-widgets/controls",
       "_model_module_version": "1.5.0",
       "_model_name": "ProgressStyleModel",
       "_view_count": null,
       "_view_module": "@jupyter-widgets/base",
       "_view_module_version": "1.2.0",
       "_view_name": "StyleView",
       "bar_color": null,
       "description_width": ""
      }
     },
     "0f662b2a34a64fd59e82bdb2f997d3da": {
      "model_module": "@jupyter-widgets/controls",
      "model_module_version": "1.5.0",
      "model_name": "ProgressStyleModel",
      "state": {
       "_model_module": "@jupyter-widgets/controls",
       "_model_module_version": "1.5.0",
       "_model_name": "ProgressStyleModel",
       "_view_count": null,
       "_view_module": "@jupyter-widgets/base",
       "_view_module_version": "1.2.0",
       "_view_name": "StyleView",
       "bar_color": null,
       "description_width": ""
      }
     },
     "11eb4962a54043f1b4d47878f10f8f93": {
      "model_module": "@jupyter-widgets/base",
      "model_module_version": "1.2.0",
      "model_name": "LayoutModel",
      "state": {
       "_model_module": "@jupyter-widgets/base",
       "_model_module_version": "1.2.0",
       "_model_name": "LayoutModel",
       "_view_count": null,
       "_view_module": "@jupyter-widgets/base",
       "_view_module_version": "1.2.0",
       "_view_name": "LayoutView",
       "align_content": null,
       "align_items": null,
       "align_self": null,
       "border": null,
       "bottom": null,
       "display": null,
       "flex": null,
       "flex_flow": null,
       "grid_area": null,
       "grid_auto_columns": null,
       "grid_auto_flow": null,
       "grid_auto_rows": null,
       "grid_column": null,
       "grid_gap": null,
       "grid_row": null,
       "grid_template_areas": null,
       "grid_template_columns": null,
       "grid_template_rows": null,
       "height": null,
       "justify_content": null,
       "justify_items": null,
       "left": null,
       "margin": null,
       "max_height": null,
       "max_width": null,
       "min_height": null,
       "min_width": null,
       "object_fit": null,
       "object_position": null,
       "order": null,
       "overflow": null,
       "overflow_x": null,
       "overflow_y": null,
       "padding": null,
       "right": null,
       "top": null,
       "visibility": null,
       "width": null
      }
     },
     "1af25e092eae437787a1dc2624c4654e": {
      "model_module": "@jupyter-widgets/controls",
      "model_module_version": "1.5.0",
      "model_name": "HBoxModel",
      "state": {
       "_dom_classes": [],
       "_model_module": "@jupyter-widgets/controls",
       "_model_module_version": "1.5.0",
       "_model_name": "HBoxModel",
       "_view_count": null,
       "_view_module": "@jupyter-widgets/controls",
       "_view_module_version": "1.5.0",
       "_view_name": "HBoxView",
       "box_style": "",
       "children": [
        "IPY_MODEL_3a7af4c4ee17499e9c044988d38451d6",
        "IPY_MODEL_7c0f00b2842b4d43b830add50acf9030",
        "IPY_MODEL_c6591bda1cec448db6d8c5bea17bbb6e"
       ],
       "layout": "IPY_MODEL_a7491b3eab094b12be91283f58b350f2"
      }
     },
     "1cec8341cd2444cdab049a624cfa26ec": {
      "model_module": "@jupyter-widgets/controls",
      "model_module_version": "1.5.0",
      "model_name": "HTMLModel",
      "state": {
       "_dom_classes": [],
       "_model_module": "@jupyter-widgets/controls",
       "_model_module_version": "1.5.0",
       "_model_name": "HTMLModel",
       "_view_count": null,
       "_view_module": "@jupyter-widgets/controls",
       "_view_module_version": "1.5.0",
       "_view_name": "HTMLView",
       "description": "",
       "description_tooltip": null,
       "layout": "IPY_MODEL_6e068ed02f1341b58edbfb26968a6e0b",
       "placeholder": "​",
       "style": "IPY_MODEL_e210cd08c5d143e1af58646b9f74be64",
       "value": "vocab.txt: 100%"
      }
     },
     "21946c65ab0444658b95a03877253b81": {
      "model_module": "@jupyter-widgets/base",
      "model_module_version": "1.2.0",
      "model_name": "LayoutModel",
      "state": {
       "_model_module": "@jupyter-widgets/base",
       "_model_module_version": "1.2.0",
       "_model_name": "LayoutModel",
       "_view_count": null,
       "_view_module": "@jupyter-widgets/base",
       "_view_module_version": "1.2.0",
       "_view_name": "LayoutView",
       "align_content": null,
       "align_items": null,
       "align_self": null,
       "border": null,
       "bottom": null,
       "display": null,
       "flex": null,
       "flex_flow": null,
       "grid_area": null,
       "grid_auto_columns": null,
       "grid_auto_flow": null,
       "grid_auto_rows": null,
       "grid_column": null,
       "grid_gap": null,
       "grid_row": null,
       "grid_template_areas": null,
       "grid_template_columns": null,
       "grid_template_rows": null,
       "height": null,
       "justify_content": null,
       "justify_items": null,
       "left": null,
       "margin": null,
       "max_height": null,
       "max_width": null,
       "min_height": null,
       "min_width": null,
       "object_fit": null,
       "object_position": null,
       "order": null,
       "overflow": null,
       "overflow_x": null,
       "overflow_y": null,
       "padding": null,
       "right": null,
       "top": null,
       "visibility": null,
       "width": null
      }
     },
     "2358f3c5ac9e48b2969a62dbbde809b4": {
      "model_module": "@jupyter-widgets/controls",
      "model_module_version": "1.5.0",
      "model_name": "DescriptionStyleModel",
      "state": {
       "_model_module": "@jupyter-widgets/controls",
       "_model_module_version": "1.5.0",
       "_model_name": "DescriptionStyleModel",
       "_view_count": null,
       "_view_module": "@jupyter-widgets/base",
       "_view_module_version": "1.2.0",
       "_view_name": "StyleView",
       "description_width": ""
      }
     },
     "270303dee15c471e8f6f1a45d65beb53": {
      "model_module": "@jupyter-widgets/controls",
      "model_module_version": "1.5.0",
      "model_name": "DescriptionStyleModel",
      "state": {
       "_model_module": "@jupyter-widgets/controls",
       "_model_module_version": "1.5.0",
       "_model_name": "DescriptionStyleModel",
       "_view_count": null,
       "_view_module": "@jupyter-widgets/base",
       "_view_module_version": "1.2.0",
       "_view_name": "StyleView",
       "description_width": ""
      }
     },
     "29553f44b03f497abe0bdbd0fbf2e04e": {
      "model_module": "@jupyter-widgets/base",
      "model_module_version": "1.2.0",
      "model_name": "LayoutModel",
      "state": {
       "_model_module": "@jupyter-widgets/base",
       "_model_module_version": "1.2.0",
       "_model_name": "LayoutModel",
       "_view_count": null,
       "_view_module": "@jupyter-widgets/base",
       "_view_module_version": "1.2.0",
       "_view_name": "LayoutView",
       "align_content": null,
       "align_items": null,
       "align_self": null,
       "border": null,
       "bottom": null,
       "display": null,
       "flex": null,
       "flex_flow": null,
       "grid_area": null,
       "grid_auto_columns": null,
       "grid_auto_flow": null,
       "grid_auto_rows": null,
       "grid_column": null,
       "grid_gap": null,
       "grid_row": null,
       "grid_template_areas": null,
       "grid_template_columns": null,
       "grid_template_rows": null,
       "height": null,
       "justify_content": null,
       "justify_items": null,
       "left": null,
       "margin": null,
       "max_height": null,
       "max_width": null,
       "min_height": null,
       "min_width": null,
       "object_fit": null,
       "object_position": null,
       "order": null,
       "overflow": null,
       "overflow_x": null,
       "overflow_y": null,
       "padding": null,
       "right": null,
       "top": null,
       "visibility": null,
       "width": null
      }
     },
     "3909f5b71695417f87ec168c08a2f49a": {
      "model_module": "@jupyter-widgets/base",
      "model_module_version": "1.2.0",
      "model_name": "LayoutModel",
      "state": {
       "_model_module": "@jupyter-widgets/base",
       "_model_module_version": "1.2.0",
       "_model_name": "LayoutModel",
       "_view_count": null,
       "_view_module": "@jupyter-widgets/base",
       "_view_module_version": "1.2.0",
       "_view_name": "LayoutView",
       "align_content": null,
       "align_items": null,
       "align_self": null,
       "border": null,
       "bottom": null,
       "display": null,
       "flex": null,
       "flex_flow": null,
       "grid_area": null,
       "grid_auto_columns": null,
       "grid_auto_flow": null,
       "grid_auto_rows": null,
       "grid_column": null,
       "grid_gap": null,
       "grid_row": null,
       "grid_template_areas": null,
       "grid_template_columns": null,
       "grid_template_rows": null,
       "height": null,
       "justify_content": null,
       "justify_items": null,
       "left": null,
       "margin": null,
       "max_height": null,
       "max_width": null,
       "min_height": null,
       "min_width": null,
       "object_fit": null,
       "object_position": null,
       "order": null,
       "overflow": null,
       "overflow_x": null,
       "overflow_y": null,
       "padding": null,
       "right": null,
       "top": null,
       "visibility": null,
       "width": null
      }
     },
     "3a7af4c4ee17499e9c044988d38451d6": {
      "model_module": "@jupyter-widgets/controls",
      "model_module_version": "1.5.0",
      "model_name": "HTMLModel",
      "state": {
       "_dom_classes": [],
       "_model_module": "@jupyter-widgets/controls",
       "_model_module_version": "1.5.0",
       "_model_name": "HTMLModel",
       "_view_count": null,
       "_view_module": "@jupyter-widgets/controls",
       "_view_module_version": "1.5.0",
       "_view_name": "HTMLView",
       "description": "",
       "description_tooltip": null,
       "layout": "IPY_MODEL_21946c65ab0444658b95a03877253b81",
       "placeholder": "​",
       "style": "IPY_MODEL_a49f04adc105435fa57c7c5fa6fa176f",
       "value": "tokenizer.json: 100%"
      }
     },
     "3bb053a92bd64e55889a905def73ef38": {
      "model_module": "@jupyter-widgets/controls",
      "model_module_version": "1.5.0",
      "model_name": "HTMLModel",
      "state": {
       "_dom_classes": [],
       "_model_module": "@jupyter-widgets/controls",
       "_model_module_version": "1.5.0",
       "_model_name": "HTMLModel",
       "_view_count": null,
       "_view_module": "@jupyter-widgets/controls",
       "_view_module_version": "1.5.0",
       "_view_name": "HTMLView",
       "description": "",
       "description_tooltip": null,
       "layout": "IPY_MODEL_f3d694a00ba14f2ba10db84c14ecbada",
       "placeholder": "​",
       "style": "IPY_MODEL_45343e11df2046e889de2b4022c6b81a",
       "value": "config.json: 100%"
      }
     },
     "3c89f6a5f8ef449ab25b20f2db0e3fbb": {
      "model_module": "@jupyter-widgets/controls",
      "model_module_version": "1.5.0",
      "model_name": "HBoxModel",
      "state": {
       "_dom_classes": [],
       "_model_module": "@jupyter-widgets/controls",
       "_model_module_version": "1.5.0",
       "_model_name": "HBoxModel",
       "_view_count": null,
       "_view_module": "@jupyter-widgets/controls",
       "_view_module_version": "1.5.0",
       "_view_name": "HBoxView",
       "box_style": "",
       "children": [
        "IPY_MODEL_b7a4eccc601444ee83cfd4646a6613bf",
        "IPY_MODEL_d49de8e68ed1450d86bef7abeefc1346",
        "IPY_MODEL_f6f93d1abec54f5aac025bfed4b5d7c1"
       ],
       "layout": "IPY_MODEL_a27d1c2f6c7e474694bffc26af543ee0"
      }
     },
     "3e2a7e14fa6747eeb55bae9c723985ff": {
      "model_module": "@jupyter-widgets/controls",
      "model_module_version": "1.5.0",
      "model_name": "HTMLModel",
      "state": {
       "_dom_classes": [],
       "_model_module": "@jupyter-widgets/controls",
       "_model_module_version": "1.5.0",
       "_model_name": "HTMLModel",
       "_view_count": null,
       "_view_module": "@jupyter-widgets/controls",
       "_view_module_version": "1.5.0",
       "_view_name": "HTMLView",
       "description": "",
       "description_tooltip": null,
       "layout": "IPY_MODEL_03b8d6a67b434f01a941523e28f4b845",
       "placeholder": "​",
       "style": "IPY_MODEL_ca451815f37342829aa99ae4df212229",
       "value": "model.safetensors: 100%"
      }
     },
     "44feccdb13d04c71abdcf193d376a8d0": {
      "model_module": "@jupyter-widgets/base",
      "model_module_version": "1.2.0",
      "model_name": "LayoutModel",
      "state": {
       "_model_module": "@jupyter-widgets/base",
       "_model_module_version": "1.2.0",
       "_model_name": "LayoutModel",
       "_view_count": null,
       "_view_module": "@jupyter-widgets/base",
       "_view_module_version": "1.2.0",
       "_view_name": "LayoutView",
       "align_content": null,
       "align_items": null,
       "align_self": null,
       "border": null,
       "bottom": null,
       "display": null,
       "flex": null,
       "flex_flow": null,
       "grid_area": null,
       "grid_auto_columns": null,
       "grid_auto_flow": null,
       "grid_auto_rows": null,
       "grid_column": null,
       "grid_gap": null,
       "grid_row": null,
       "grid_template_areas": null,
       "grid_template_columns": null,
       "grid_template_rows": null,
       "height": null,
       "justify_content": null,
       "justify_items": null,
       "left": null,
       "margin": null,
       "max_height": null,
       "max_width": null,
       "min_height": null,
       "min_width": null,
       "object_fit": null,
       "object_position": null,
       "order": null,
       "overflow": null,
       "overflow_x": null,
       "overflow_y": null,
       "padding": null,
       "right": null,
       "top": null,
       "visibility": null,
       "width": null
      }
     },
     "4507d21ba36246d982244bef93f9bbc4": {
      "model_module": "@jupyter-widgets/base",
      "model_module_version": "1.2.0",
      "model_name": "LayoutModel",
      "state": {
       "_model_module": "@jupyter-widgets/base",
       "_model_module_version": "1.2.0",
       "_model_name": "LayoutModel",
       "_view_count": null,
       "_view_module": "@jupyter-widgets/base",
       "_view_module_version": "1.2.0",
       "_view_name": "LayoutView",
       "align_content": null,
       "align_items": null,
       "align_self": null,
       "border": null,
       "bottom": null,
       "display": null,
       "flex": null,
       "flex_flow": null,
       "grid_area": null,
       "grid_auto_columns": null,
       "grid_auto_flow": null,
       "grid_auto_rows": null,
       "grid_column": null,
       "grid_gap": null,
       "grid_row": null,
       "grid_template_areas": null,
       "grid_template_columns": null,
       "grid_template_rows": null,
       "height": null,
       "justify_content": null,
       "justify_items": null,
       "left": null,
       "margin": null,
       "max_height": null,
       "max_width": null,
       "min_height": null,
       "min_width": null,
       "object_fit": null,
       "object_position": null,
       "order": null,
       "overflow": null,
       "overflow_x": null,
       "overflow_y": null,
       "padding": null,
       "right": null,
       "top": null,
       "visibility": null,
       "width": null
      }
     },
     "45343e11df2046e889de2b4022c6b81a": {
      "model_module": "@jupyter-widgets/controls",
      "model_module_version": "1.5.0",
      "model_name": "DescriptionStyleModel",
      "state": {
       "_model_module": "@jupyter-widgets/controls",
       "_model_module_version": "1.5.0",
       "_model_name": "DescriptionStyleModel",
       "_view_count": null,
       "_view_module": "@jupyter-widgets/base",
       "_view_module_version": "1.2.0",
       "_view_name": "StyleView",
       "description_width": ""
      }
     },
     "46ff35a7c2ef4f3b8994357fba406d23": {
      "model_module": "@jupyter-widgets/controls",
      "model_module_version": "1.5.0",
      "model_name": "ProgressStyleModel",
      "state": {
       "_model_module": "@jupyter-widgets/controls",
       "_model_module_version": "1.5.0",
       "_model_name": "ProgressStyleModel",
       "_view_count": null,
       "_view_module": "@jupyter-widgets/base",
       "_view_module_version": "1.2.0",
       "_view_name": "StyleView",
       "bar_color": null,
       "description_width": ""
      }
     },
     "53daabc3467c4e4287530618f75df1a2": {
      "model_module": "@jupyter-widgets/controls",
      "model_module_version": "1.5.0",
      "model_name": "DescriptionStyleModel",
      "state": {
       "_model_module": "@jupyter-widgets/controls",
       "_model_module_version": "1.5.0",
       "_model_name": "DescriptionStyleModel",
       "_view_count": null,
       "_view_module": "@jupyter-widgets/base",
       "_view_module_version": "1.2.0",
       "_view_name": "StyleView",
       "description_width": ""
      }
     },
     "594ff7eeb6704129936a8519840cdf93": {
      "model_module": "@jupyter-widgets/controls",
      "model_module_version": "1.5.0",
      "model_name": "FloatProgressModel",
      "state": {
       "_dom_classes": [],
       "_model_module": "@jupyter-widgets/controls",
       "_model_module_version": "1.5.0",
       "_model_name": "FloatProgressModel",
       "_view_count": null,
       "_view_module": "@jupyter-widgets/controls",
       "_view_module_version": "1.5.0",
       "_view_name": "ProgressView",
       "bar_style": "success",
       "description": "",
       "description_tooltip": null,
       "layout": "IPY_MODEL_44feccdb13d04c71abdcf193d376a8d0",
       "max": 440449768.0,
       "min": 0.0,
       "orientation": "horizontal",
       "style": "IPY_MODEL_03ee98d7a6134987b582a59bdd16d0d6",
       "value": 440449768.0
      }
     },
     "59eee17d42f347e6ba38c644226c62e4": {
      "model_module": "@jupyter-widgets/base",
      "model_module_version": "1.2.0",
      "model_name": "LayoutModel",
      "state": {
       "_model_module": "@jupyter-widgets/base",
       "_model_module_version": "1.2.0",
       "_model_name": "LayoutModel",
       "_view_count": null,
       "_view_module": "@jupyter-widgets/base",
       "_view_module_version": "1.2.0",
       "_view_name": "LayoutView",
       "align_content": null,
       "align_items": null,
       "align_self": null,
       "border": null,
       "bottom": null,
       "display": null,
       "flex": null,
       "flex_flow": null,
       "grid_area": null,
       "grid_auto_columns": null,
       "grid_auto_flow": null,
       "grid_auto_rows": null,
       "grid_column": null,
       "grid_gap": null,
       "grid_row": null,
       "grid_template_areas": null,
       "grid_template_columns": null,
       "grid_template_rows": null,
       "height": null,
       "justify_content": null,
       "justify_items": null,
       "left": null,
       "margin": null,
       "max_height": null,
       "max_width": null,
       "min_height": null,
       "min_width": null,
       "object_fit": null,
       "object_position": null,
       "order": null,
       "overflow": null,
       "overflow_x": null,
       "overflow_y": null,
       "padding": null,
       "right": null,
       "top": null,
       "visibility": null,
       "width": null
      }
     },
     "63881e56253c44c4b9125346623a2baf": {
      "model_module": "@jupyter-widgets/base",
      "model_module_version": "1.2.0",
      "model_name": "LayoutModel",
      "state": {
       "_model_module": "@jupyter-widgets/base",
       "_model_module_version": "1.2.0",
       "_model_name": "LayoutModel",
       "_view_count": null,
       "_view_module": "@jupyter-widgets/base",
       "_view_module_version": "1.2.0",
       "_view_name": "LayoutView",
       "align_content": null,
       "align_items": null,
       "align_self": null,
       "border": null,
       "bottom": null,
       "display": null,
       "flex": null,
       "flex_flow": null,
       "grid_area": null,
       "grid_auto_columns": null,
       "grid_auto_flow": null,
       "grid_auto_rows": null,
       "grid_column": null,
       "grid_gap": null,
       "grid_row": null,
       "grid_template_areas": null,
       "grid_template_columns": null,
       "grid_template_rows": null,
       "height": null,
       "justify_content": null,
       "justify_items": null,
       "left": null,
       "margin": null,
       "max_height": null,
       "max_width": null,
       "min_height": null,
       "min_width": null,
       "object_fit": null,
       "object_position": null,
       "order": null,
       "overflow": null,
       "overflow_x": null,
       "overflow_y": null,
       "padding": null,
       "right": null,
       "top": null,
       "visibility": null,
       "width": null
      }
     },
     "668f2e223c7a4fd7af77bebd6d4b3021": {
      "model_module": "@jupyter-widgets/controls",
      "model_module_version": "1.5.0",
      "model_name": "HTMLModel",
      "state": {
       "_dom_classes": [],
       "_model_module": "@jupyter-widgets/controls",
       "_model_module_version": "1.5.0",
       "_model_name": "HTMLModel",
       "_view_count": null,
       "_view_module": "@jupyter-widgets/controls",
       "_view_module_version": "1.5.0",
       "_view_name": "HTMLView",
       "description": "",
       "description_tooltip": null,
       "layout": "IPY_MODEL_4507d21ba36246d982244bef93f9bbc4",
       "placeholder": "​",
       "style": "IPY_MODEL_abf31f33646044e1bb227a6ecfff160d",
       "value": " 232k/232k [00:00&lt;00:00, 3.51MB/s]"
      }
     },
     "6e068ed02f1341b58edbfb26968a6e0b": {
      "model_module": "@jupyter-widgets/base",
      "model_module_version": "1.2.0",
      "model_name": "LayoutModel",
      "state": {
       "_model_module": "@jupyter-widgets/base",
       "_model_module_version": "1.2.0",
       "_model_name": "LayoutModel",
       "_view_count": null,
       "_view_module": "@jupyter-widgets/base",
       "_view_module_version": "1.2.0",
       "_view_name": "LayoutView",
       "align_content": null,
       "align_items": null,
       "align_self": null,
       "border": null,
       "bottom": null,
       "display": null,
       "flex": null,
       "flex_flow": null,
       "grid_area": null,
       "grid_auto_columns": null,
       "grid_auto_flow": null,
       "grid_auto_rows": null,
       "grid_column": null,
       "grid_gap": null,
       "grid_row": null,
       "grid_template_areas": null,
       "grid_template_columns": null,
       "grid_template_rows": null,
       "height": null,
       "justify_content": null,
       "justify_items": null,
       "left": null,
       "margin": null,
       "max_height": null,
       "max_width": null,
       "min_height": null,
       "min_width": null,
       "object_fit": null,
       "object_position": null,
       "order": null,
       "overflow": null,
       "overflow_x": null,
       "overflow_y": null,
       "padding": null,
       "right": null,
       "top": null,
       "visibility": null,
       "width": null
      }
     },
     "6f3f81bc04dc4058b4fc889cfcff7853": {
      "model_module": "@jupyter-widgets/controls",
      "model_module_version": "1.5.0",
      "model_name": "HTMLModel",
      "state": {
       "_dom_classes": [],
       "_model_module": "@jupyter-widgets/controls",
       "_model_module_version": "1.5.0",
       "_model_name": "HTMLModel",
       "_view_count": null,
       "_view_module": "@jupyter-widgets/controls",
       "_view_module_version": "1.5.0",
       "_view_name": "HTMLView",
       "description": "",
       "description_tooltip": null,
       "layout": "IPY_MODEL_29553f44b03f497abe0bdbd0fbf2e04e",
       "placeholder": "​",
       "style": "IPY_MODEL_2358f3c5ac9e48b2969a62dbbde809b4",
       "value": " 440M/440M [00:01&lt;00:00, 304MB/s]"
      }
     },
     "71bda90f56104032a4042863ca23c916": {
      "model_module": "@jupyter-widgets/controls",
      "model_module_version": "1.5.0",
      "model_name": "HBoxModel",
      "state": {
       "_dom_classes": [],
       "_model_module": "@jupyter-widgets/controls",
       "_model_module_version": "1.5.0",
       "_model_name": "HBoxModel",
       "_view_count": null,
       "_view_module": "@jupyter-widgets/controls",
       "_view_module_version": "1.5.0",
       "_view_name": "HBoxView",
       "box_style": "",
       "children": [
        "IPY_MODEL_1cec8341cd2444cdab049a624cfa26ec",
        "IPY_MODEL_b67e63878baa483fbb649478e1fd14e9",
        "IPY_MODEL_668f2e223c7a4fd7af77bebd6d4b3021"
       ],
       "layout": "IPY_MODEL_edd7ea29f05543b181cf1d20e11369d3"
      }
     },
     "7762540f997344e98de954db7ff3cde4": {
      "model_module": "@jupyter-widgets/controls",
      "model_module_version": "1.5.0",
      "model_name": "DescriptionStyleModel",
      "state": {
       "_model_module": "@jupyter-widgets/controls",
       "_model_module_version": "1.5.0",
       "_model_name": "DescriptionStyleModel",
       "_view_count": null,
       "_view_module": "@jupyter-widgets/base",
       "_view_module_version": "1.2.0",
       "_view_name": "StyleView",
       "description_width": ""
      }
     },
     "7c0f00b2842b4d43b830add50acf9030": {
      "model_module": "@jupyter-widgets/controls",
      "model_module_version": "1.5.0",
      "model_name": "FloatProgressModel",
      "state": {
       "_dom_classes": [],
       "_model_module": "@jupyter-widgets/controls",
       "_model_module_version": "1.5.0",
       "_model_name": "FloatProgressModel",
       "_view_count": null,
       "_view_module": "@jupyter-widgets/controls",
       "_view_module_version": "1.5.0",
       "_view_name": "ProgressView",
       "bar_style": "success",
       "description": "",
       "description_tooltip": null,
       "layout": "IPY_MODEL_59eee17d42f347e6ba38c644226c62e4",
       "max": 466062.0,
       "min": 0.0,
       "orientation": "horizontal",
       "style": "IPY_MODEL_0f662b2a34a64fd59e82bdb2f997d3da",
       "value": 466062.0
      }
     },
     "8966a0318acb4f40a9730e0e2a3d2b0b": {
      "model_module": "@jupyter-widgets/controls",
      "model_module_version": "1.5.0",
      "model_name": "FloatProgressModel",
      "state": {
       "_dom_classes": [],
       "_model_module": "@jupyter-widgets/controls",
       "_model_module_version": "1.5.0",
       "_model_name": "FloatProgressModel",
       "_view_count": null,
       "_view_module": "@jupyter-widgets/controls",
       "_view_module_version": "1.5.0",
       "_view_name": "ProgressView",
       "bar_style": "success",
       "description": "",
       "description_tooltip": null,
       "layout": "IPY_MODEL_df2c8ac5d25f4e2dacf9761daaf2487d",
       "max": 570.0,
       "min": 0.0,
       "orientation": "horizontal",
       "style": "IPY_MODEL_ccb5bea7c8244d0891c1538d0de4d9e0",
       "value": 570.0
      }
     },
     "9853815fdfef449b9fa01479faf250d7": {
      "model_module": "@jupyter-widgets/controls",
      "model_module_version": "1.5.0",
      "model_name": "ProgressStyleModel",
      "state": {
       "_model_module": "@jupyter-widgets/controls",
       "_model_module_version": "1.5.0",
       "_model_name": "ProgressStyleModel",
       "_view_count": null,
       "_view_module": "@jupyter-widgets/base",
       "_view_module_version": "1.2.0",
       "_view_name": "StyleView",
       "bar_color": null,
       "description_width": ""
      }
     },
     "9933c1693cc54fd39b296baa3020e1d5": {
      "model_module": "@jupyter-widgets/base",
      "model_module_version": "1.2.0",
      "model_name": "LayoutModel",
      "state": {
       "_model_module": "@jupyter-widgets/base",
       "_model_module_version": "1.2.0",
       "_model_name": "LayoutModel",
       "_view_count": null,
       "_view_module": "@jupyter-widgets/base",
       "_view_module_version": "1.2.0",
       "_view_name": "LayoutView",
       "align_content": null,
       "align_items": null,
       "align_self": null,
       "border": null,
       "bottom": null,
       "display": null,
       "flex": null,
       "flex_flow": null,
       "grid_area": null,
       "grid_auto_columns": null,
       "grid_auto_flow": null,
       "grid_auto_rows": null,
       "grid_column": null,
       "grid_gap": null,
       "grid_row": null,
       "grid_template_areas": null,
       "grid_template_columns": null,
       "grid_template_rows": null,
       "height": null,
       "justify_content": null,
       "justify_items": null,
       "left": null,
       "margin": null,
       "max_height": null,
       "max_width": null,
       "min_height": null,
       "min_width": null,
       "object_fit": null,
       "object_position": null,
       "order": null,
       "overflow": null,
       "overflow_x": null,
       "overflow_y": null,
       "padding": null,
       "right": null,
       "top": null,
       "visibility": null,
       "width": null
      }
     },
     "a27d1c2f6c7e474694bffc26af543ee0": {
      "model_module": "@jupyter-widgets/base",
      "model_module_version": "1.2.0",
      "model_name": "LayoutModel",
      "state": {
       "_model_module": "@jupyter-widgets/base",
       "_model_module_version": "1.2.0",
       "_model_name": "LayoutModel",
       "_view_count": null,
       "_view_module": "@jupyter-widgets/base",
       "_view_module_version": "1.2.0",
       "_view_name": "LayoutView",
       "align_content": null,
       "align_items": null,
       "align_self": null,
       "border": null,
       "bottom": null,
       "display": null,
       "flex": null,
       "flex_flow": null,
       "grid_area": null,
       "grid_auto_columns": null,
       "grid_auto_flow": null,
       "grid_auto_rows": null,
       "grid_column": null,
       "grid_gap": null,
       "grid_row": null,
       "grid_template_areas": null,
       "grid_template_columns": null,
       "grid_template_rows": null,
       "height": null,
       "justify_content": null,
       "justify_items": null,
       "left": null,
       "margin": null,
       "max_height": null,
       "max_width": null,
       "min_height": null,
       "min_width": null,
       "object_fit": null,
       "object_position": null,
       "order": null,
       "overflow": null,
       "overflow_x": null,
       "overflow_y": null,
       "padding": null,
       "right": null,
       "top": null,
       "visibility": null,
       "width": null
      }
     },
     "a49f04adc105435fa57c7c5fa6fa176f": {
      "model_module": "@jupyter-widgets/controls",
      "model_module_version": "1.5.0",
      "model_name": "DescriptionStyleModel",
      "state": {
       "_model_module": "@jupyter-widgets/controls",
       "_model_module_version": "1.5.0",
       "_model_name": "DescriptionStyleModel",
       "_view_count": null,
       "_view_module": "@jupyter-widgets/base",
       "_view_module_version": "1.2.0",
       "_view_name": "StyleView",
       "description_width": ""
      }
     },
     "a7491b3eab094b12be91283f58b350f2": {
      "model_module": "@jupyter-widgets/base",
      "model_module_version": "1.2.0",
      "model_name": "LayoutModel",
      "state": {
       "_model_module": "@jupyter-widgets/base",
       "_model_module_version": "1.2.0",
       "_model_name": "LayoutModel",
       "_view_count": null,
       "_view_module": "@jupyter-widgets/base",
       "_view_module_version": "1.2.0",
       "_view_name": "LayoutView",
       "align_content": null,
       "align_items": null,
       "align_self": null,
       "border": null,
       "bottom": null,
       "display": null,
       "flex": null,
       "flex_flow": null,
       "grid_area": null,
       "grid_auto_columns": null,
       "grid_auto_flow": null,
       "grid_auto_rows": null,
       "grid_column": null,
       "grid_gap": null,
       "grid_row": null,
       "grid_template_areas": null,
       "grid_template_columns": null,
       "grid_template_rows": null,
       "height": null,
       "justify_content": null,
       "justify_items": null,
       "left": null,
       "margin": null,
       "max_height": null,
       "max_width": null,
       "min_height": null,
       "min_width": null,
       "object_fit": null,
       "object_position": null,
       "order": null,
       "overflow": null,
       "overflow_x": null,
       "overflow_y": null,
       "padding": null,
       "right": null,
       "top": null,
       "visibility": null,
       "width": null
      }
     },
     "abf31f33646044e1bb227a6ecfff160d": {
      "model_module": "@jupyter-widgets/controls",
      "model_module_version": "1.5.0",
      "model_name": "DescriptionStyleModel",
      "state": {
       "_model_module": "@jupyter-widgets/controls",
       "_model_module_version": "1.5.0",
       "_model_name": "DescriptionStyleModel",
       "_view_count": null,
       "_view_module": "@jupyter-widgets/base",
       "_view_module_version": "1.2.0",
       "_view_name": "StyleView",
       "description_width": ""
      }
     },
     "b2679ee782054849ac4aa0c1d05fe247": {
      "model_module": "@jupyter-widgets/controls",
      "model_module_version": "1.5.0",
      "model_name": "DescriptionStyleModel",
      "state": {
       "_model_module": "@jupyter-widgets/controls",
       "_model_module_version": "1.5.0",
       "_model_name": "DescriptionStyleModel",
       "_view_count": null,
       "_view_module": "@jupyter-widgets/base",
       "_view_module_version": "1.2.0",
       "_view_name": "StyleView",
       "description_width": ""
      }
     },
     "b67e63878baa483fbb649478e1fd14e9": {
      "model_module": "@jupyter-widgets/controls",
      "model_module_version": "1.5.0",
      "model_name": "FloatProgressModel",
      "state": {
       "_dom_classes": [],
       "_model_module": "@jupyter-widgets/controls",
       "_model_module_version": "1.5.0",
       "_model_name": "FloatProgressModel",
       "_view_count": null,
       "_view_module": "@jupyter-widgets/controls",
       "_view_module_version": "1.5.0",
       "_view_name": "ProgressView",
       "bar_style": "success",
       "description": "",
       "description_tooltip": null,
       "layout": "IPY_MODEL_63881e56253c44c4b9125346623a2baf",
       "max": 231508.0,
       "min": 0.0,
       "orientation": "horizontal",
       "style": "IPY_MODEL_46ff35a7c2ef4f3b8994357fba406d23",
       "value": 231508.0
      }
     },
     "b7a4eccc601444ee83cfd4646a6613bf": {
      "model_module": "@jupyter-widgets/controls",
      "model_module_version": "1.5.0",
      "model_name": "HTMLModel",
      "state": {
       "_dom_classes": [],
       "_model_module": "@jupyter-widgets/controls",
       "_model_module_version": "1.5.0",
       "_model_name": "HTMLModel",
       "_view_count": null,
       "_view_module": "@jupyter-widgets/controls",
       "_view_module_version": "1.5.0",
       "_view_name": "HTMLView",
       "description": "",
       "description_tooltip": null,
       "layout": "IPY_MODEL_cd7b8e7e66764f53ac1671c9fb6e7af1",
       "placeholder": "​",
       "style": "IPY_MODEL_7762540f997344e98de954db7ff3cde4",
       "value": "tokenizer_config.json: 100%"
      }
     },
     "c6591bda1cec448db6d8c5bea17bbb6e": {
      "model_module": "@jupyter-widgets/controls",
      "model_module_version": "1.5.0",
      "model_name": "HTMLModel",
      "state": {
       "_dom_classes": [],
       "_model_module": "@jupyter-widgets/controls",
       "_model_module_version": "1.5.0",
       "_model_name": "HTMLModel",
       "_view_count": null,
       "_view_module": "@jupyter-widgets/controls",
       "_view_module_version": "1.5.0",
       "_view_name": "HTMLView",
       "description": "",
       "description_tooltip": null,
       "layout": "IPY_MODEL_9933c1693cc54fd39b296baa3020e1d5",
       "placeholder": "​",
       "style": "IPY_MODEL_270303dee15c471e8f6f1a45d65beb53",
       "value": " 466k/466k [00:00&lt;00:00, 2.42MB/s]"
      }
     },
     "ca451815f37342829aa99ae4df212229": {
      "model_module": "@jupyter-widgets/controls",
      "model_module_version": "1.5.0",
      "model_name": "DescriptionStyleModel",
      "state": {
       "_model_module": "@jupyter-widgets/controls",
       "_model_module_version": "1.5.0",
       "_model_name": "DescriptionStyleModel",
       "_view_count": null,
       "_view_module": "@jupyter-widgets/base",
       "_view_module_version": "1.2.0",
       "_view_name": "StyleView",
       "description_width": ""
      }
     },
     "ccb5bea7c8244d0891c1538d0de4d9e0": {
      "model_module": "@jupyter-widgets/controls",
      "model_module_version": "1.5.0",
      "model_name": "ProgressStyleModel",
      "state": {
       "_model_module": "@jupyter-widgets/controls",
       "_model_module_version": "1.5.0",
       "_model_name": "ProgressStyleModel",
       "_view_count": null,
       "_view_module": "@jupyter-widgets/base",
       "_view_module_version": "1.2.0",
       "_view_name": "StyleView",
       "bar_color": null,
       "description_width": ""
      }
     },
     "cd7b8e7e66764f53ac1671c9fb6e7af1": {
      "model_module": "@jupyter-widgets/base",
      "model_module_version": "1.2.0",
      "model_name": "LayoutModel",
      "state": {
       "_model_module": "@jupyter-widgets/base",
       "_model_module_version": "1.2.0",
       "_model_name": "LayoutModel",
       "_view_count": null,
       "_view_module": "@jupyter-widgets/base",
       "_view_module_version": "1.2.0",
       "_view_name": "LayoutView",
       "align_content": null,
       "align_items": null,
       "align_self": null,
       "border": null,
       "bottom": null,
       "display": null,
       "flex": null,
       "flex_flow": null,
       "grid_area": null,
       "grid_auto_columns": null,
       "grid_auto_flow": null,
       "grid_auto_rows": null,
       "grid_column": null,
       "grid_gap": null,
       "grid_row": null,
       "grid_template_areas": null,
       "grid_template_columns": null,
       "grid_template_rows": null,
       "height": null,
       "justify_content": null,
       "justify_items": null,
       "left": null,
       "margin": null,
       "max_height": null,
       "max_width": null,
       "min_height": null,
       "min_width": null,
       "object_fit": null,
       "object_position": null,
       "order": null,
       "overflow": null,
       "overflow_x": null,
       "overflow_y": null,
       "padding": null,
       "right": null,
       "top": null,
       "visibility": null,
       "width": null
      }
     },
     "d49de8e68ed1450d86bef7abeefc1346": {
      "model_module": "@jupyter-widgets/controls",
      "model_module_version": "1.5.0",
      "model_name": "FloatProgressModel",
      "state": {
       "_dom_classes": [],
       "_model_module": "@jupyter-widgets/controls",
       "_model_module_version": "1.5.0",
       "_model_name": "FloatProgressModel",
       "_view_count": null,
       "_view_module": "@jupyter-widgets/controls",
       "_view_module_version": "1.5.0",
       "_view_name": "ProgressView",
       "bar_style": "success",
       "description": "",
       "description_tooltip": null,
       "layout": "IPY_MODEL_d7c38e3b16ec4e5280f3c6b5390c85eb",
       "max": 48.0,
       "min": 0.0,
       "orientation": "horizontal",
       "style": "IPY_MODEL_9853815fdfef449b9fa01479faf250d7",
       "value": 48.0
      }
     },
     "d7898b0321f54ac9ac2be130babb6e7a": {
      "model_module": "@jupyter-widgets/base",
      "model_module_version": "1.2.0",
      "model_name": "LayoutModel",
      "state": {
       "_model_module": "@jupyter-widgets/base",
       "_model_module_version": "1.2.0",
       "_model_name": "LayoutModel",
       "_view_count": null,
       "_view_module": "@jupyter-widgets/base",
       "_view_module_version": "1.2.0",
       "_view_name": "LayoutView",
       "align_content": null,
       "align_items": null,
       "align_self": null,
       "border": null,
       "bottom": null,
       "display": null,
       "flex": null,
       "flex_flow": null,
       "grid_area": null,
       "grid_auto_columns": null,
       "grid_auto_flow": null,
       "grid_auto_rows": null,
       "grid_column": null,
       "grid_gap": null,
       "grid_row": null,
       "grid_template_areas": null,
       "grid_template_columns": null,
       "grid_template_rows": null,
       "height": null,
       "justify_content": null,
       "justify_items": null,
       "left": null,
       "margin": null,
       "max_height": null,
       "max_width": null,
       "min_height": null,
       "min_width": null,
       "object_fit": null,
       "object_position": null,
       "order": null,
       "overflow": null,
       "overflow_x": null,
       "overflow_y": null,
       "padding": null,
       "right": null,
       "top": null,
       "visibility": null,
       "width": null
      }
     },
     "d7c38e3b16ec4e5280f3c6b5390c85eb": {
      "model_module": "@jupyter-widgets/base",
      "model_module_version": "1.2.0",
      "model_name": "LayoutModel",
      "state": {
       "_model_module": "@jupyter-widgets/base",
       "_model_module_version": "1.2.0",
       "_model_name": "LayoutModel",
       "_view_count": null,
       "_view_module": "@jupyter-widgets/base",
       "_view_module_version": "1.2.0",
       "_view_name": "LayoutView",
       "align_content": null,
       "align_items": null,
       "align_self": null,
       "border": null,
       "bottom": null,
       "display": null,
       "flex": null,
       "flex_flow": null,
       "grid_area": null,
       "grid_auto_columns": null,
       "grid_auto_flow": null,
       "grid_auto_rows": null,
       "grid_column": null,
       "grid_gap": null,
       "grid_row": null,
       "grid_template_areas": null,
       "grid_template_columns": null,
       "grid_template_rows": null,
       "height": null,
       "justify_content": null,
       "justify_items": null,
       "left": null,
       "margin": null,
       "max_height": null,
       "max_width": null,
       "min_height": null,
       "min_width": null,
       "object_fit": null,
       "object_position": null,
       "order": null,
       "overflow": null,
       "overflow_x": null,
       "overflow_y": null,
       "padding": null,
       "right": null,
       "top": null,
       "visibility": null,
       "width": null
      }
     },
     "df2c8ac5d25f4e2dacf9761daaf2487d": {
      "model_module": "@jupyter-widgets/base",
      "model_module_version": "1.2.0",
      "model_name": "LayoutModel",
      "state": {
       "_model_module": "@jupyter-widgets/base",
       "_model_module_version": "1.2.0",
       "_model_name": "LayoutModel",
       "_view_count": null,
       "_view_module": "@jupyter-widgets/base",
       "_view_module_version": "1.2.0",
       "_view_name": "LayoutView",
       "align_content": null,
       "align_items": null,
       "align_self": null,
       "border": null,
       "bottom": null,
       "display": null,
       "flex": null,
       "flex_flow": null,
       "grid_area": null,
       "grid_auto_columns": null,
       "grid_auto_flow": null,
       "grid_auto_rows": null,
       "grid_column": null,
       "grid_gap": null,
       "grid_row": null,
       "grid_template_areas": null,
       "grid_template_columns": null,
       "grid_template_rows": null,
       "height": null,
       "justify_content": null,
       "justify_items": null,
       "left": null,
       "margin": null,
       "max_height": null,
       "max_width": null,
       "min_height": null,
       "min_width": null,
       "object_fit": null,
       "object_position": null,
       "order": null,
       "overflow": null,
       "overflow_x": null,
       "overflow_y": null,
       "padding": null,
       "right": null,
       "top": null,
       "visibility": null,
       "width": null
      }
     },
     "e210cd08c5d143e1af58646b9f74be64": {
      "model_module": "@jupyter-widgets/controls",
      "model_module_version": "1.5.0",
      "model_name": "DescriptionStyleModel",
      "state": {
       "_model_module": "@jupyter-widgets/controls",
       "_model_module_version": "1.5.0",
       "_model_name": "DescriptionStyleModel",
       "_view_count": null,
       "_view_module": "@jupyter-widgets/base",
       "_view_module_version": "1.2.0",
       "_view_name": "StyleView",
       "description_width": ""
      }
     },
     "ea2427d4cf104b40a3cb6ba68d1a1c6a": {
      "model_module": "@jupyter-widgets/controls",
      "model_module_version": "1.5.0",
      "model_name": "HTMLModel",
      "state": {
       "_dom_classes": [],
       "_model_module": "@jupyter-widgets/controls",
       "_model_module_version": "1.5.0",
       "_model_name": "HTMLModel",
       "_view_count": null,
       "_view_module": "@jupyter-widgets/controls",
       "_view_module_version": "1.5.0",
       "_view_name": "HTMLView",
       "description": "",
       "description_tooltip": null,
       "layout": "IPY_MODEL_11eb4962a54043f1b4d47878f10f8f93",
       "placeholder": "​",
       "style": "IPY_MODEL_53daabc3467c4e4287530618f75df1a2",
       "value": " 570/570 [00:00&lt;00:00, 46.2kB/s]"
      }
     },
     "ed92d07637c94faa81a41cc2969e474e": {
      "model_module": "@jupyter-widgets/controls",
      "model_module_version": "1.5.0",
      "model_name": "HBoxModel",
      "state": {
       "_dom_classes": [],
       "_model_module": "@jupyter-widgets/controls",
       "_model_module_version": "1.5.0",
       "_model_name": "HBoxModel",
       "_view_count": null,
       "_view_module": "@jupyter-widgets/controls",
       "_view_module_version": "1.5.0",
       "_view_name": "HBoxView",
       "box_style": "",
       "children": [
        "IPY_MODEL_3bb053a92bd64e55889a905def73ef38",
        "IPY_MODEL_8966a0318acb4f40a9730e0e2a3d2b0b",
        "IPY_MODEL_ea2427d4cf104b40a3cb6ba68d1a1c6a"
       ],
       "layout": "IPY_MODEL_3909f5b71695417f87ec168c08a2f49a"
      }
     },
     "edd7ea29f05543b181cf1d20e11369d3": {
      "model_module": "@jupyter-widgets/base",
      "model_module_version": "1.2.0",
      "model_name": "LayoutModel",
      "state": {
       "_model_module": "@jupyter-widgets/base",
       "_model_module_version": "1.2.0",
       "_model_name": "LayoutModel",
       "_view_count": null,
       "_view_module": "@jupyter-widgets/base",
       "_view_module_version": "1.2.0",
       "_view_name": "LayoutView",
       "align_content": null,
       "align_items": null,
       "align_self": null,
       "border": null,
       "bottom": null,
       "display": null,
       "flex": null,
       "flex_flow": null,
       "grid_area": null,
       "grid_auto_columns": null,
       "grid_auto_flow": null,
       "grid_auto_rows": null,
       "grid_column": null,
       "grid_gap": null,
       "grid_row": null,
       "grid_template_areas": null,
       "grid_template_columns": null,
       "grid_template_rows": null,
       "height": null,
       "justify_content": null,
       "justify_items": null,
       "left": null,
       "margin": null,
       "max_height": null,
       "max_width": null,
       "min_height": null,
       "min_width": null,
       "object_fit": null,
       "object_position": null,
       "order": null,
       "overflow": null,
       "overflow_x": null,
       "overflow_y": null,
       "padding": null,
       "right": null,
       "top": null,
       "visibility": null,
       "width": null
      }
     },
     "efda151bd3574030ae657d366468907d": {
      "model_module": "@jupyter-widgets/controls",
      "model_module_version": "1.5.0",
      "model_name": "HBoxModel",
      "state": {
       "_dom_classes": [],
       "_model_module": "@jupyter-widgets/controls",
       "_model_module_version": "1.5.0",
       "_model_name": "HBoxModel",
       "_view_count": null,
       "_view_module": "@jupyter-widgets/controls",
       "_view_module_version": "1.5.0",
       "_view_name": "HBoxView",
       "box_style": "",
       "children": [
        "IPY_MODEL_3e2a7e14fa6747eeb55bae9c723985ff",
        "IPY_MODEL_594ff7eeb6704129936a8519840cdf93",
        "IPY_MODEL_6f3f81bc04dc4058b4fc889cfcff7853"
       ],
       "layout": "IPY_MODEL_f64e963387414ac5a018fc14a50a9cb5"
      }
     },
     "f3d694a00ba14f2ba10db84c14ecbada": {
      "model_module": "@jupyter-widgets/base",
      "model_module_version": "1.2.0",
      "model_name": "LayoutModel",
      "state": {
       "_model_module": "@jupyter-widgets/base",
       "_model_module_version": "1.2.0",
       "_model_name": "LayoutModel",
       "_view_count": null,
       "_view_module": "@jupyter-widgets/base",
       "_view_module_version": "1.2.0",
       "_view_name": "LayoutView",
       "align_content": null,
       "align_items": null,
       "align_self": null,
       "border": null,
       "bottom": null,
       "display": null,
       "flex": null,
       "flex_flow": null,
       "grid_area": null,
       "grid_auto_columns": null,
       "grid_auto_flow": null,
       "grid_auto_rows": null,
       "grid_column": null,
       "grid_gap": null,
       "grid_row": null,
       "grid_template_areas": null,
       "grid_template_columns": null,
       "grid_template_rows": null,
       "height": null,
       "justify_content": null,
       "justify_items": null,
       "left": null,
       "margin": null,
       "max_height": null,
       "max_width": null,
       "min_height": null,
       "min_width": null,
       "object_fit": null,
       "object_position": null,
       "order": null,
       "overflow": null,
       "overflow_x": null,
       "overflow_y": null,
       "padding": null,
       "right": null,
       "top": null,
       "visibility": null,
       "width": null
      }
     },
     "f64e963387414ac5a018fc14a50a9cb5": {
      "model_module": "@jupyter-widgets/base",
      "model_module_version": "1.2.0",
      "model_name": "LayoutModel",
      "state": {
       "_model_module": "@jupyter-widgets/base",
       "_model_module_version": "1.2.0",
       "_model_name": "LayoutModel",
       "_view_count": null,
       "_view_module": "@jupyter-widgets/base",
       "_view_module_version": "1.2.0",
       "_view_name": "LayoutView",
       "align_content": null,
       "align_items": null,
       "align_self": null,
       "border": null,
       "bottom": null,
       "display": null,
       "flex": null,
       "flex_flow": null,
       "grid_area": null,
       "grid_auto_columns": null,
       "grid_auto_flow": null,
       "grid_auto_rows": null,
       "grid_column": null,
       "grid_gap": null,
       "grid_row": null,
       "grid_template_areas": null,
       "grid_template_columns": null,
       "grid_template_rows": null,
       "height": null,
       "justify_content": null,
       "justify_items": null,
       "left": null,
       "margin": null,
       "max_height": null,
       "max_width": null,
       "min_height": null,
       "min_width": null,
       "object_fit": null,
       "object_position": null,
       "order": null,
       "overflow": null,
       "overflow_x": null,
       "overflow_y": null,
       "padding": null,
       "right": null,
       "top": null,
       "visibility": null,
       "width": null
      }
     },
     "f6f93d1abec54f5aac025bfed4b5d7c1": {
      "model_module": "@jupyter-widgets/controls",
      "model_module_version": "1.5.0",
      "model_name": "HTMLModel",
      "state": {
       "_dom_classes": [],
       "_model_module": "@jupyter-widgets/controls",
       "_model_module_version": "1.5.0",
       "_model_name": "HTMLModel",
       "_view_count": null,
       "_view_module": "@jupyter-widgets/controls",
       "_view_module_version": "1.5.0",
       "_view_name": "HTMLView",
       "description": "",
       "description_tooltip": null,
       "layout": "IPY_MODEL_d7898b0321f54ac9ac2be130babb6e7a",
       "placeholder": "​",
       "style": "IPY_MODEL_b2679ee782054849ac4aa0c1d05fe247",
       "value": " 48.0/48.0 [00:00&lt;00:00, 4.08kB/s]"
      }
     }
    },
    "version_major": 2,
    "version_minor": 0
   }
  }
 },
 "nbformat": 4,
 "nbformat_minor": 5
}
